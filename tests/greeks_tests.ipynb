{
 "cells": [
  {
   "cell_type": "markdown",
   "id": "aff8772d",
   "metadata": {},
   "source": [
    "#### Greeks"
   ]
  },
  {
   "cell_type": "code",
   "execution_count": 5,
   "id": "67f994a3",
   "metadata": {},
   "outputs": [],
   "source": [
    "import sys, os, pytest\n",
    "\n",
    "sys.path.append(os.path.abspath(\"../src\"))\n",
    "\n",
    "from greeks import BlackScholesGreeks"
   ]
  },
  {
   "cell_type": "code",
   "execution_count": 8,
   "id": "9423df81",
   "metadata": {},
   "outputs": [
    {
     "name": "stdout",
     "output_type": "stream",
     "text": [
      "Delta Call: 0.6368\n",
      "Delta Put: -0.3632\n",
      "Gamma: 0.0188\n",
      "Vega: 0.3752\n",
      "Theta Call: -0.0176\n",
      "Theta Put: -0.0045\n",
      "Rho Call: 0.5323\n",
      "Rho Put: -0.4189\n"
     ]
    }
   ],
   "source": [
    "# Common parameters for all tests\n",
    "S = 100       # Spot price\n",
    "K = 100       # Strike price\n",
    "T = 1.0       # Time to maturity (in years)\n",
    "r = 0.05      # Risk-free interest rate\n",
    "sigma = 0.2   # Volatility\n",
    "\n",
    "def test_delta_call():\n",
    "    greeks = BlackScholesGreeks(S, K, T, r, sigma, option_type='call')\n",
    "    result = greeks.delta()\n",
    "    expected = 0.6368  # Approximate\n",
    "    print(f\"Delta Call: {result:.4f}\")\n",
    "    assert abs(result - expected) < 1e-4\n",
    "\n",
    "def test_delta_put():\n",
    "    greeks = BlackScholesGreeks(S, K, T, r, sigma, option_type='put')\n",
    "    result = greeks.delta()\n",
    "    expected = -0.3632  # Approximate\n",
    "    print(f\"Delta Put: {result:.4f}\")\n",
    "    assert abs(result - expected) < 1e-4\n",
    "\n",
    "def test_gamma():\n",
    "    greeks = BlackScholesGreeks(S, K, T, r, sigma)\n",
    "    result = greeks.gamma()\n",
    "    expected = 0.0188  # Updated expected\n",
    "    print(f\"Gamma: {result:.4f}\")\n",
    "    assert abs(result - expected) < 1e-4\n",
    "\n",
    "def test_vega():\n",
    "    greeks = BlackScholesGreeks(S, K, T, r, sigma)\n",
    "    result = greeks.vega()\n",
    "    expected = 0.3752  # Corrected expected value\n",
    "    print(f\"Vega: {result:.4f}\")\n",
    "    assert abs(result - expected) < 1e-4\n",
    "\n",
    "def test_theta_call():\n",
    "    greeks = BlackScholesGreeks(S, K, T, r, sigma, option_type='call')\n",
    "    result = greeks.theta()\n",
    "    expected = -0.0176  # Updated per day\n",
    "    print(f\"Theta Call: {result:.4f}\")\n",
    "    assert abs(result - expected) < 1e-4\n",
    "\n",
    "def test_theta_put():\n",
    "    greeks = BlackScholesGreeks(S, K, T, r, sigma, option_type='put')\n",
    "    result = greeks.theta()\n",
    "    expected = -0.0045  # Updated per day\n",
    "    print(f\"Theta Put: {result:.4f}\")\n",
    "    assert abs(result - expected) < 1e-4\n",
    "\n",
    "def test_rho_call():\n",
    "    greeks = BlackScholesGreeks(S, K, T, r, sigma, option_type='call')\n",
    "    result = greeks.rho()\n",
    "    expected = 0.5323  # Approximate\n",
    "    print(f\"Rho Call: {result:.4f}\")\n",
    "    assert abs(result - expected) < 1e-4\n",
    "\n",
    "def test_rho_put():\n",
    "    greeks = BlackScholesGreeks(S, K, T, r, sigma, option_type='put')\n",
    "    result = greeks.rho()\n",
    "    expected = -0.4189  # Updated approximate\n",
    "    print(f\"Rho Put: {result:.4f}\")\n",
    "    assert abs(result - expected) < 1e-4\n",
    "\n",
    "def test_invalid_option_type():\n",
    "    with pytest.raises(ValueError):\n",
    "        BlackScholesGreeks(S, K, T, r, sigma, option_type='banana')\n",
    "\n",
    "if __name__ == \"__main__\":\n",
    "    test_delta_call()\n",
    "    test_delta_put()\n",
    "    test_gamma()\n",
    "    test_vega()\n",
    "    test_theta_call()\n",
    "    test_theta_put()\n",
    "    test_rho_call()\n",
    "    test_rho_put()\n",
    "    test_invalid_option_type()"
   ]
  }
 ],
 "metadata": {
  "kernelspec": {
   "display_name": "base",
   "language": "python",
   "name": "python3"
  },
  "language_info": {
   "codemirror_mode": {
    "name": "ipython",
    "version": 3
   },
   "file_extension": ".py",
   "mimetype": "text/x-python",
   "name": "python",
   "nbconvert_exporter": "python",
   "pygments_lexer": "ipython3",
   "version": "3.12.4"
  }
 },
 "nbformat": 4,
 "nbformat_minor": 5
}
