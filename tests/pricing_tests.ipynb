{
 "cells": [
  {
   "cell_type": "markdown",
   "id": "286e05e4",
   "metadata": {},
   "source": [
    "#### Princign black scholes"
   ]
  },
  {
   "cell_type": "code",
   "execution_count": 3,
   "id": "22adb469",
   "metadata": {},
   "outputs": [
    {
     "name": "stdout",
     "output_type": "stream",
     "text": [
      "call: ✅ OK\n",
      "put: ✅ OK\n",
      "error: ✅ OK\n"
     ]
    }
   ],
   "source": [
    "\n",
    "import sys, os\n",
    "# 👉 añade la carpeta src/ al path: tests/ → .. → src\n",
    "sys.path.append(os.path.abspath(\"../src\"))\n",
    "\n",
    "import pytest\n",
    "from pricing_black_scholes import black_scholes\n",
    "\n",
    "\n",
    "def test_call_option_price():\n",
    "    # Ejemplo clásico Black–Scholes\n",
    "    price = black_scholes(S=100, K=100, T=1, r=0.05, sigma=0.2, option_type=\"call\")\n",
    "    assert round(price, 2) == 10.45\n",
    "\n",
    "\n",
    "def test_put_option_price():\n",
    "    price = black_scholes(S=100, K=100, T=1, r=0.05, sigma=0.2, option_type=\"put\")\n",
    "    assert round(price, 2) == 5.57\n",
    "\n",
    "\n",
    "def test_invalid_option_type():\n",
    "    with pytest.raises(ValueError):\n",
    "        black_scholes(S=100, K=100, T=1, r=0.05, sigma=0.2, option_type=\"invalid\")\n",
    "\n",
    "tests = [\n",
    "    (\"call\",  test_call_option_price),\n",
    "    (\"put\",   test_put_option_price),\n",
    "    (\"error\", test_invalid_option_type),\n",
    "]\n",
    "\n",
    "for name, fn in tests:\n",
    "    try:\n",
    "        fn()                         # ejecuta el test\n",
    "        print(f\"{name}: ✅ OK\")\n",
    "    except AssertionError as e:\n",
    "        print(f\"{name}: ❌ {e}\")"
   ]
  }
 ],
 "metadata": {
  "kernelspec": {
   "display_name": "base",
   "language": "python",
   "name": "python3"
  },
  "language_info": {
   "codemirror_mode": {
    "name": "ipython",
    "version": 3
   },
   "file_extension": ".py",
   "mimetype": "text/x-python",
   "name": "python",
   "nbconvert_exporter": "python",
   "pygments_lexer": "ipython3",
   "version": "3.12.4"
  }
 },
 "nbformat": 4,
 "nbformat_minor": 5
}
