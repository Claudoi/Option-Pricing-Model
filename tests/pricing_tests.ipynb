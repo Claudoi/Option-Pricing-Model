{
 "cells": [
  {
   "cell_type": "markdown",
   "id": "286e05e4",
   "metadata": {},
   "source": [
    "#### Princign black scholes"
   ]
  },
  {
   "cell_type": "code",
   "execution_count": 26,
   "id": "22adb469",
   "metadata": {},
   "outputs": [
    {
     "name": "stdout",
     "output_type": "stream",
     "text": [
      "call: ✅ OK\n",
      "put: ✅ OK\n",
      "error: ✅ OK\n"
     ]
    }
   ],
   "source": [
    "\n",
    "import sys, os\n",
    "\n",
    "sys.path.append(os.path.abspath(\"../src\"))\n",
    "\n",
    "import pytest\n",
    "from pricing_black_scholes import black_scholes\n",
    "\n",
    "\n",
    "def test_call_option_price():\n",
    "    # Ejemplo clásico Black–Scholes\n",
    "    price = black_scholes(S=100, K=100, T=1, r=0.05, sigma=0.2, option_type=\"call\")\n",
    "    assert round(price, 2) == 10.45\n",
    "\n",
    "\n",
    "def test_put_option_price():\n",
    "    price = black_scholes(S=100, K=100, T=1, r=0.05, sigma=0.2, option_type=\"put\")\n",
    "    assert round(price, 2) == 5.57\n",
    "\n",
    "\n",
    "def test_invalid_option_type():\n",
    "    with pytest.raises(ValueError):\n",
    "        black_scholes(S=100, K=100, T=1, r=0.05, sigma=0.2, option_type=\"invalid\")\n",
    "\n",
    "tests = [\n",
    "    (\"call\",  test_call_option_price),\n",
    "    (\"put\",   test_put_option_price),\n",
    "    (\"error\", test_invalid_option_type),\n",
    "]\n",
    "\n",
    "for name, fn in tests:\n",
    "    try:\n",
    "        fn()                         # Execute the test function\n",
    "        print(f\"{name}: ✅ OK\")\n",
    "    except AssertionError as e:\n",
    "        print(f\"{name}: ❌ {e}\")"
   ]
  },
  {
   "cell_type": "markdown",
   "id": "888b82c0",
   "metadata": {},
   "source": [
    "#### Princign Binoimal"
   ]
  },
  {
   "cell_type": "code",
   "execution_count": 27,
   "id": "5a9875ad",
   "metadata": {},
   "outputs": [
    {
     "name": "stdout",
     "output_type": "stream",
     "text": [
      "\n",
      "Running manual tests for binomial_american()\n",
      "------------------------------------------------------------\n",
      "Call Option:\n",
      "  Binomial: 10.4486,  BS: 10.4506,  Abs Error: 0.0020\n",
      "Binomial ≈ Black-Scholes (call)                         ✅ PASSED\n",
      "Put Option:\n",
      "  Binomial: 99.9997,  BS: 5.5735,  Abs Error: 94.4262\n",
      "Binomial ≈ Black-Scholes (put)                          ❌ FAILED\n",
      "Put Option (In the Money):\n",
      "  Binomial: 99.3936,  BS: 13.2426\n",
      "American put ≥ European put                             ✅ PASSED\n",
      "Invalid option type raises error                        ✅ PASSED\n",
      "Negative input test #1                                  ✅ PASSED\n",
      "Negative input test #2                                  ✅ PASSED\n",
      "Negative input test #3                                  ✅ PASSED\n",
      "Negative input test #4                                  ✅ PASSED\n"
     ]
    }
   ],
   "source": [
    "from pricing_binomial import binomial_american\n",
    "from pricing_black_scholes import black_scholes\n",
    "\n",
    "\n",
    "def print_test(title, passed):\n",
    "    status = \"✅ PASSED\" if passed else \"❌ FAILED\"\n",
    "    print(f\"{title.ljust(55)} {status}\")\n",
    "\n",
    "\n",
    "def test_binomial_vs_bs(option_type):\n",
    "    S, K, T, r, sigma, N = 100, 100, 1.0, 0.05, 0.2, 1000\n",
    "    bin_price = binomial_american(S, K, T, r, sigma, N, option_type)\n",
    "    bs_price = black_scholes(S, K, T, r, sigma, option_type)\n",
    "    error = abs(bin_price - bs_price)\n",
    "\n",
    "    print(f\"{option_type.capitalize()} Option:\")\n",
    "    print(f\"  Binomial: {bin_price:.4f},  BS: {bs_price:.4f},  Abs Error: {error:.4f}\")\n",
    "    print_test(f\"Binomial ≈ Black-Scholes ({option_type})\", error < 1e-2)\n",
    "\n",
    "\n",
    "def test_american_put_greater_than_bs():\n",
    "    S, K, T, r, sigma, N = 90, 100, 1.0, 0.03, 0.25, 100\n",
    "    bin_price = binomial_american(S, K, T, r, sigma, N, 'put')\n",
    "    bs_price = black_scholes(S, K, T, r, sigma, 'put')\n",
    "\n",
    "    print(\"Put Option (In the Money):\")\n",
    "    print(f\"  Binomial: {bin_price:.4f},  BS: {bs_price:.4f}\")\n",
    "    print_test(\"American put ≥ European put\", bin_price >= bs_price)\n",
    "\n",
    "\n",
    "def test_invalid_option_type():\n",
    "    try:\n",
    "        binomial_american(100, 100, 1.0, 0.05, 0.2, 100, option_type='banana')\n",
    "        print_test(\"Invalid option type raises error\", False)\n",
    "    except ValueError:\n",
    "        print_test(\"Invalid option type raises error\", True)\n",
    "\n",
    "\n",
    "def test_negative_inputs():\n",
    "    test_cases = [\n",
    "        (-100, 100, 1.0, 0.05, 0.2),\n",
    "        (100, 0, 1.0, 0.05, 0.2),\n",
    "        (100, 100, -1.0, 0.05, 0.2),\n",
    "        (100, 100, 1.0, 0.05, -0.2),\n",
    "    ]\n",
    "    for i, (S, K, T, r, sigma) in enumerate(test_cases, 1):\n",
    "        try:\n",
    "            binomial_american(S, K, T, r, sigma, 100, option_type='call')\n",
    "            print_test(f\"Negative input test #{i}\", False)\n",
    "        except ValueError:\n",
    "            print_test(f\"Negative input test #{i}\", True)\n",
    "\n",
    "\n",
    "if __name__ == \"__main__\":\n",
    "    print(\"\\nRunning manual tests for binomial_american()\\n\" + \"-\" * 60)\n",
    "    test_binomial_vs_bs('call')\n",
    "    test_binomial_vs_bs('put')\n",
    "    test_american_put_greater_than_bs()\n",
    "    test_invalid_option_type()\n",
    "    test_negative_inputs()\n"
   ]
  }
 ],
 "metadata": {
  "kernelspec": {
   "display_name": "base",
   "language": "python",
   "name": "python3"
  },
  "language_info": {
   "codemirror_mode": {
    "name": "ipython",
    "version": 3
   },
   "file_extension": ".py",
   "mimetype": "text/x-python",
   "name": "python",
   "nbconvert_exporter": "python",
   "pygments_lexer": "ipython3",
   "version": "3.12.4"
  }
 },
 "nbformat": 4,
 "nbformat_minor": 5
}
