{
 "cells": [
  {
   "cell_type": "code",
   "execution_count": 37,
   "id": "f7e4d3ef",
   "metadata": {},
   "outputs": [],
   "source": [
    "import sys, os, numpy as np, pytest\n",
    "\n",
    "sys.path.append(os.path.abspath(\"../src\"))\n",
    "\n",
    "from pricing_black_scholes import black_scholes\n",
    "from pricing_binomial import binomial_american\n",
    "# from pricing_binomial import binomial_european\n",
    "from pricing_montecarlo import monte_carlo_asian\n",
    "from pricing_montecarlo import monte_carlo_digital_barrier\n",
    "from pricing_montecarlo import monte_carlo_lookback"
   ]
  },
  {
   "cell_type": "markdown",
   "id": "286e05e4",
   "metadata": {},
   "source": [
    "#### Princign black scholes"
   ]
  },
  {
   "cell_type": "code",
   "execution_count": 38,
   "id": "22adb469",
   "metadata": {},
   "outputs": [
    {
     "name": "stdout",
     "output_type": "stream",
     "text": [
      "call: ✅ OK\n",
      "put: ✅ OK\n",
      "error: ✅ OK\n"
     ]
    }
   ],
   "source": [
    "def test_call_option_price():\n",
    "    # Ejemplo clásico Black–Scholes\n",
    "    price = black_scholes(S=100, K=100, T=1, r=0.05, sigma=0.2, option_type=\"call\")\n",
    "    assert round(price, 2) == 10.45\n",
    "\n",
    "\n",
    "def test_put_option_price():\n",
    "    price = black_scholes(S=100, K=100, T=1, r=0.05, sigma=0.2, option_type=\"put\")\n",
    "    assert round(price, 2) == 5.57\n",
    "\n",
    "\n",
    "def test_invalid_option_type():\n",
    "    with pytest.raises(ValueError):\n",
    "        black_scholes(S=100, K=100, T=1, r=0.05, sigma=0.2, option_type=\"invalid\")\n",
    "\n",
    "tests = [\n",
    "    (\"call\",  test_call_option_price),\n",
    "    (\"put\",   test_put_option_price),\n",
    "    (\"error\", test_invalid_option_type),\n",
    "]\n",
    "\n",
    "for name, fn in tests:\n",
    "    try:\n",
    "        fn()                         # Execute the test function\n",
    "        print(f\"{name}: ✅ OK\")\n",
    "    except AssertionError as e:\n",
    "        print(f\"{name}: ❌ {e}\")"
   ]
  },
  {
   "cell_type": "markdown",
   "id": "888b82c0",
   "metadata": {},
   "source": [
    "#### Princing Binomial"
   ]
  },
  {
   "cell_type": "code",
   "execution_count": 39,
   "id": "5a9875ad",
   "metadata": {},
   "outputs": [
    {
     "name": "stdout",
     "output_type": "stream",
     "text": [
      "\n",
      "Running manual tests for binomial_american()\n",
      "------------------------------------------------------------\n",
      "Call Option:\n",
      "  Binomial: 10.4486,  BS: 10.4506,  Abs Error: 0.0020\n",
      "Binomial ≈ Black-Scholes (call)                         ✅ PASSED\n",
      "Put Option:\n",
      "  Binomial: 6.0896,  BS: 5.5735,  Abs Error: 0.5161\n",
      "Binomial ≈ Black-Scholes (put)                          ❌ FAILED\n",
      "Put Option (In the Money):\n",
      "  Binomial: 13.7986,  BS: 13.2426\n",
      "American put ≥ European put                             ✅ PASSED\n",
      "Invalid option type raises error                        ✅ PASSED\n",
      "Negative input test #1                                  ✅ PASSED\n",
      "Negative input test #2                                  ✅ PASSED\n",
      "Negative input test #3                                  ✅ PASSED\n",
      "Negative input test #4                                  ✅ PASSED\n"
     ]
    }
   ],
   "source": [
    "def print_test(title, passed):\n",
    "    status = \"✅ PASSED\" if passed else \"❌ FAILED\"\n",
    "    print(f\"{title.ljust(55)} {status}\")\n",
    "\n",
    "\n",
    "def test_binomial_vs_bs(option_type):\n",
    "    S, K, T, r, sigma, N = 100, 100, 1.0, 0.05, 0.2, 1000\n",
    "    bin_price = binomial_american(S, K, T, r, sigma, N, option_type)\n",
    "    bs_price = black_scholes(S, K, T, r, sigma, option_type)\n",
    "    error = abs(bin_price - bs_price)\n",
    "\n",
    "    print(f\"{option_type.capitalize()} Option:\")\n",
    "    print(f\"  Binomial: {bin_price:.4f},  BS: {bs_price:.4f},  Abs Error: {error:.4f}\")\n",
    "    print_test(f\"Binomial ≈ Black-Scholes ({option_type})\", error < 1e-2)\n",
    "\n",
    "\n",
    "def test_american_put_greater_than_bs():\n",
    "    S, K, T, r, sigma, N = 90, 100, 1.0, 0.03, 0.25, 100\n",
    "    bin_price = binomial_american(S, K, T, r, sigma, N, 'put')\n",
    "    bs_price = black_scholes(S, K, T, r, sigma, 'put')\n",
    "\n",
    "    print(\"Put Option (In the Money):\")\n",
    "    print(f\"  Binomial: {bin_price:.4f},  BS: {bs_price:.4f}\")\n",
    "    print_test(\"American put ≥ European put\", bin_price >= bs_price)\n",
    "\n",
    "\n",
    "def test_invalid_option_type():\n",
    "    try:\n",
    "        binomial_american(100, 100, 1.0, 0.05, 0.2, 100, option_type='banana')\n",
    "        print_test(\"Invalid option type raises error\", False)\n",
    "    except ValueError:\n",
    "        print_test(\"Invalid option type raises error\", True)\n",
    "\n",
    "\n",
    "def test_negative_inputs():\n",
    "    test_cases = [\n",
    "        (-100, 100, 1.0, 0.05, 0.2),\n",
    "        (100, 0, 1.0, 0.05, 0.2),\n",
    "        (100, 100, -1.0, 0.05, 0.2),\n",
    "        (100, 100, 1.0, 0.05, -0.2),\n",
    "    ]\n",
    "    for i, (S, K, T, r, sigma) in enumerate(test_cases, 1):\n",
    "        try:\n",
    "            binomial_american(S, K, T, r, sigma, 100, option_type='call')\n",
    "            print_test(f\"Negative input test #{i}\", False)\n",
    "        except ValueError:\n",
    "            print_test(f\"Negative input test #{i}\", True)\n",
    "\n",
    "\n",
    "if __name__ == \"__main__\":\n",
    "    print(\"\\nRunning manual tests for binomial_american()\\n\" + \"-\" * 60)\n",
    "    test_binomial_vs_bs('call')\n",
    "    test_binomial_vs_bs('put')\n",
    "    test_american_put_greater_than_bs()\n",
    "    test_invalid_option_type()\n",
    "    test_negative_inputs()\n"
   ]
  },
  {
   "cell_type": "code",
   "execution_count": 40,
   "id": "000beda9",
   "metadata": {},
   "outputs": [
    {
     "name": "stdout",
     "output_type": "stream",
     "text": [
      "\n",
      "Running tests for binomial_european()\n",
      "-------------------------------------------------------\n"
     ]
    },
    {
     "ename": "NameError",
     "evalue": "name 'binomial_european' is not defined",
     "output_type": "error",
     "traceback": [
      "\u001b[1;31m---------------------------------------------------------------------------\u001b[0m",
      "\u001b[1;31mNameError\u001b[0m                                 Traceback (most recent call last)",
      "Cell \u001b[1;32mIn[40], line 14\u001b[0m\n\u001b[0;32m     12\u001b[0m \u001b[38;5;28;01mif\u001b[39;00m \u001b[38;5;18m__name__\u001b[39m \u001b[38;5;241m==\u001b[39m \u001b[38;5;124m\"\u001b[39m\u001b[38;5;124m__main__\u001b[39m\u001b[38;5;124m\"\u001b[39m:\n\u001b[0;32m     13\u001b[0m     \u001b[38;5;28mprint\u001b[39m(\u001b[38;5;124m\"\u001b[39m\u001b[38;5;130;01m\\n\u001b[39;00m\u001b[38;5;124mRunning tests for binomial_european()\u001b[39m\u001b[38;5;130;01m\\n\u001b[39;00m\u001b[38;5;124m\"\u001b[39m \u001b[38;5;241m+\u001b[39m \u001b[38;5;124m\"\u001b[39m\u001b[38;5;124m-\u001b[39m\u001b[38;5;124m\"\u001b[39m \u001b[38;5;241m*\u001b[39m \u001b[38;5;241m55\u001b[39m)\n\u001b[1;32m---> 14\u001b[0m     test_binomial_european_vs_bs()\n",
      "Cell \u001b[1;32mIn[40], line 4\u001b[0m, in \u001b[0;36mtest_binomial_european_vs_bs\u001b[1;34m()\u001b[0m\n\u001b[0;32m      2\u001b[0m S, K, T, r, sigma, N \u001b[38;5;241m=\u001b[39m \u001b[38;5;241m100\u001b[39m, \u001b[38;5;241m100\u001b[39m, \u001b[38;5;241m1.0\u001b[39m, \u001b[38;5;241m0.05\u001b[39m, \u001b[38;5;241m0.2\u001b[39m, \u001b[38;5;241m1000\u001b[39m\n\u001b[0;32m      3\u001b[0m \u001b[38;5;28;01mfor\u001b[39;00m option_type \u001b[38;5;129;01min\u001b[39;00m [\u001b[38;5;124m\"\u001b[39m\u001b[38;5;124mcall\u001b[39m\u001b[38;5;124m\"\u001b[39m, \u001b[38;5;124m\"\u001b[39m\u001b[38;5;124mput\u001b[39m\u001b[38;5;124m\"\u001b[39m]:\n\u001b[1;32m----> 4\u001b[0m     bin_price \u001b[38;5;241m=\u001b[39m binomial_european(S, K, T, r, sigma, N, option_type)\n\u001b[0;32m      5\u001b[0m     bs_price \u001b[38;5;241m=\u001b[39m black_scholes(S, K, T, r, sigma, option_type)\n\u001b[0;32m      6\u001b[0m     error \u001b[38;5;241m=\u001b[39m \u001b[38;5;28mabs\u001b[39m(bin_price \u001b[38;5;241m-\u001b[39m bs_price)\n",
      "\u001b[1;31mNameError\u001b[0m: name 'binomial_european' is not defined"
     ]
    }
   ],
   "source": [
    "def test_binomial_european_vs_bs():\n",
    "    S, K, T, r, sigma, N = 100, 100, 1.0, 0.05, 0.2, 1000\n",
    "    for option_type in [\"call\", \"put\"]:\n",
    "        bin_price = binomial_european(S, K, T, r, sigma, N, option_type)\n",
    "        bs_price = black_scholes(S, K, T, r, sigma, option_type)\n",
    "        error = abs(bin_price - bs_price)\n",
    "        print(f\"{option_type.capitalize()} Option (European):\")\n",
    "        print(f\"  Binomial: {bin_price:.4f},  BS: {bs_price:.4f},  Abs Error: {error:.4f}\")\n",
    "        print_test(f\"European binomial ≈ BS ({option_type})\", error < 1e-2)\n",
    "\n",
    "\n",
    "if __name__ == \"__main__\":\n",
    "    print(\"\\nRunning tests for binomial_european()\\n\" + \"-\" * 55)\n",
    "    test_binomial_european_vs_bs()\n"
   ]
  },
  {
   "cell_type": "markdown",
   "id": "9f579658",
   "metadata": {},
   "source": [
    "#### Princing Montecarlo Asian"
   ]
  },
  {
   "cell_type": "code",
   "execution_count": null,
   "id": "34c6f5d9",
   "metadata": {},
   "outputs": [
    {
     "name": "stdout",
     "output_type": "stream",
     "text": [
      "\n",
      "Running tests for monte_carlo_asian()\n",
      "-------------------------------------------------------\n",
      "MC Asian Call Price: 5.9365 (expected ≈ 5.9)\n",
      "Monte Carlo reproducible result                    ✅ PASSED\n",
      "Put price > Call price when ITM for put            ✅ PASSED\n",
      "Invalid option type raises error                   ✅ PASSED\n",
      "Negative input check                               ✅ PASSED\n"
     ]
    }
   ],
   "source": [
    "def print_test(title, passed):\n",
    "    status = \"✅ PASSED\" if passed else \"❌ FAILED\"\n",
    "    print(f\"{title.ljust(50)} {status}\")\n",
    "\n",
    "\n",
    "def test_mc_value_repeatable():\n",
    "    np.random.seed(42)\n",
    "    price = monte_carlo_asian(S=100, K=100, T=1.0, r=0.05, sigma=0.2,\n",
    "                                       option_type='call', n_simulations=5000, n_steps=50)\n",
    "    expected = 5.9  # Aproximado con semilla fija\n",
    "    passed = abs(price - expected) < 0.5\n",
    "    print(f\"MC Asian Call Price: {price:.4f} (expected ≈ {expected})\")\n",
    "    print_test(\"Monte Carlo reproducible result\", passed)\n",
    "\n",
    "\n",
    "def test_mc_put_greater_when_ITM():\n",
    "    np.random.seed(0)\n",
    "    call_price = monte_carlo_asian(80, 100, 1.0, 0.05, 0.3, 'call')\n",
    "    put_price = monte_carlo_asian(80, 100, 1.0, 0.05, 0.3, 'put')\n",
    "    print_test(\"Put price > Call price when ITM for put\", put_price > call_price)\n",
    "\n",
    "\n",
    "def test_invalid_option_type():\n",
    "    try:\n",
    "        monte_carlo_asian(100, 100, 1.0, 0.05, 0.2, option_type='banana')\n",
    "        print_test(\"Invalid option type raises error\", False)\n",
    "    except ValueError:\n",
    "        print_test(\"Invalid option type raises error\", True)\n",
    "\n",
    "\n",
    "def test_negative_inputs():\n",
    "    try:\n",
    "        monte_carlo_asian(-100, 100, 1.0, 0.05, 0.2)\n",
    "        print_test(\"Negative input check\", False)\n",
    "    except ValueError:\n",
    "        print_test(\"Negative input check\", True)\n",
    "\n",
    "\n",
    "if __name__ == \"__main__\":\n",
    "    print(\"\\nRunning tests for monte_carlo_asian()\\n\" + \"-\"*55)\n",
    "    test_mc_value_repeatable()\n",
    "    test_mc_put_greater_when_ITM()\n",
    "    test_invalid_option_type()\n",
    "    test_negative_inputs()\n"
   ]
  },
  {
   "cell_type": "markdown",
   "id": "86cc2261",
   "metadata": {},
   "source": [
    "#### Monte Carlo Digital Barrier"
   ]
  },
  {
   "cell_type": "code",
   "execution_count": null,
   "id": "d585ae76",
   "metadata": {},
   "outputs": [
    {
     "name": "stdout",
     "output_type": "stream",
     "text": [
      "\n",
      "Running digital barrier option tests\n",
      "---------------------------------------------\n",
      "✅ Digital up-and-in call price: 0.4737\n",
      "✅ Barrier type affects price: In=0.4671, Out=0.0565\n",
      "✅ Invalid barrier type raises ValueError\n",
      "✅ Invalid option type raises ValueError\n"
     ]
    }
   ],
   "source": [
    "def test_digital_barrier_price_valid():\n",
    "    price = monte_carlo_digital_barrier(\n",
    "        S=100, K=100, T=1, r=0.05, sigma=0.2,\n",
    "        barrier=110, option_type='call',\n",
    "        barrier_type='up-and-in',\n",
    "        n_simulations=5000, n_steps=50\n",
    "    )\n",
    "    assert 0 <= price <= 1, f\"Invalid price: {price}\"\n",
    "    print(f\"✅ Digital up-and-in call price: {price:.4f}\")\n",
    "\n",
    "def test_barrier_type_difference():\n",
    "    price_in = monte_carlo_digital_barrier(\n",
    "        S=100, K=100, T=1, r=0.05, sigma=0.2,\n",
    "        barrier=110, option_type='call',\n",
    "        barrier_type='up-and-in',\n",
    "        n_simulations=5000, n_steps=50\n",
    "    )\n",
    "    price_out = monte_carlo_digital_barrier(\n",
    "        S=100, K=100, T=1, r=0.05, sigma=0.2,\n",
    "        barrier=110, option_type='call',\n",
    "        barrier_type='up-and-out',\n",
    "        n_simulations=5000, n_steps=50\n",
    "    )\n",
    "    assert abs(price_in - price_out) > 0.01, \"In and Out prices too close\"\n",
    "    print(f\"✅ Barrier type affects price: In={price_in:.4f}, Out={price_out:.4f}\")\n",
    "\n",
    "def test_invalid_barrier_type():\n",
    "    try:\n",
    "        monte_carlo_digital_barrier(\n",
    "            S=100, K=100, T=1, r=0.05, sigma=0.2,\n",
    "            barrier=110, option_type='call',\n",
    "            barrier_type='sideways-in'\n",
    "        )\n",
    "        assert False, \"Invalid barrier type did not raise error\"\n",
    "    except ValueError:\n",
    "        print(\"✅ Invalid barrier type raises ValueError\")\n",
    "\n",
    "def test_invalid_option_type():\n",
    "    try:\n",
    "        monte_carlo_digital_barrier(\n",
    "            S=100, K=100, T=1, r=0.05, sigma=0.2,\n",
    "            barrier=110, option_type='banana',\n",
    "            barrier_type='up-and-in'\n",
    "        )\n",
    "        assert False, \"Invalid option type did not raise error\"\n",
    "    except ValueError:\n",
    "        print(\"✅ Invalid option type raises ValueError\")\n",
    "\n",
    "if __name__ == \"__main__\":\n",
    "    print(\"\\nRunning digital barrier option tests\\n\" + \"-\" * 45)\n",
    "    test_digital_barrier_price_valid()\n",
    "    test_barrier_type_difference()\n",
    "    test_invalid_barrier_type()\n",
    "    test_invalid_option_type()\n"
   ]
  },
  {
   "cell_type": "markdown",
   "id": "a27805bb",
   "metadata": {},
   "source": [
    "#### Monte Carlo Lookback"
   ]
  },
  {
   "cell_type": "code",
   "execution_count": null,
   "id": "37e045cd",
   "metadata": {},
   "outputs": [
    {
     "name": "stdout",
     "output_type": "stream",
     "text": [
      "\n",
      "Running tests for monte_carlo_lookback()\n",
      "-------------------------------------------------------\n",
      "Lookback Call Price: 17.8050\n",
      "Lookback Put Price:  11.4158\n",
      "Lookback call and put prices are positive          ✅ PASSED\n",
      "Invalid option type raises error                   ✅ PASSED\n",
      "Negative input test #1                             ✅ PASSED\n",
      "Negative input test #2                             ✅ PASSED\n",
      "Negative input test #3                             ✅ PASSED\n",
      "Negative input test #4                             ✅ PASSED\n"
     ]
    }
   ],
   "source": [
    "def print_test(title, passed):\n",
    "    status = \"✅ PASSED\" if passed else \"❌ FAILED\"\n",
    "    print(f\"{title.ljust(50)} {status}\")\n",
    "\n",
    "def test_lookback_option_types():\n",
    "    S, K, T, r, sigma = 100, 100, 1.0, 0.05, 0.2\n",
    "    call_price = monte_carlo_lookback(S, K, T, r, sigma, option_type='call', n_simulations=10000, n_steps=100)\n",
    "    put_price = monte_carlo_lookback(S, K, T, r, sigma, option_type='put', n_simulations=10000, n_steps=100)\n",
    "    print(f\"Lookback Call Price: {call_price:.4f}\")\n",
    "    print(f\"Lookback Put Price:  {put_price:.4f}\")\n",
    "    print_test(\"Lookback call and put prices are positive\", call_price > 0 and put_price > 0)\n",
    "\n",
    "def test_invalid_option_type_lookback():\n",
    "    try:\n",
    "        monte_carlo_lookback(100, 100, 1.0, 0.05, 0.2, option_type='banana')\n",
    "        print_test(\"Invalid option type raises error\", False)\n",
    "    except ValueError:\n",
    "        print_test(\"Invalid option type raises error\", True)\n",
    "\n",
    "def test_negative_inputs_lookback():\n",
    "    test_cases = [\n",
    "        (-100, 100, 1.0, 0.05, 0.2),\n",
    "        (100, 0, 1.0, 0.05, 0.2),\n",
    "        (100, 100, -1.0, 0.05, 0.2),\n",
    "        (100, 100, 1.0, 0.05, -0.2),\n",
    "    ]\n",
    "    for i, (S, K, T, r, sigma) in enumerate(test_cases, 1):\n",
    "        try:\n",
    "            monte_carlo_lookback(S, K, T, r, sigma, option_type='call')\n",
    "            print_test(f\"Negative input test #{i}\", False)\n",
    "        except ValueError:\n",
    "            print_test(f\"Negative input test #{i}\", True)\n",
    "\n",
    "if __name__ == \"__main__\":\n",
    "    print(\"\\nRunning tests for monte_carlo_lookback()\\n\" + \"-\" * 55)\n",
    "    test_lookback_option_types()\n",
    "    test_invalid_option_type_lookback()\n",
    "    test_negative_inputs_lookback()\n"
   ]
  }
 ],
 "metadata": {
  "kernelspec": {
   "display_name": "base",
   "language": "python",
   "name": "python3"
  },
  "language_info": {
   "codemirror_mode": {
    "name": "ipython",
    "version": 3
   },
   "file_extension": ".py",
   "mimetype": "text/x-python",
   "name": "python",
   "nbconvert_exporter": "python",
   "pygments_lexer": "ipython3",
   "version": "3.12.4"
  }
 },
 "nbformat": 4,
 "nbformat_minor": 5
}
