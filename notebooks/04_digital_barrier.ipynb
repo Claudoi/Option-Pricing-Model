{
 "cells": [
  {
   "cell_type": "markdown",
   "id": "62f11d39",
   "metadata": {},
   "source": [
    "# Digital Barrier Option Pricing with Monte Carlo Simulation\n",
    "\n",
    "This notebook explores the valuation of digital barrier options using Monte Carlo methods. Barrier options are a class of path-dependent derivatives whose payoff depends on whether the underlying asset price breaches a predetermined barrier level during the life of the option.\n",
    "\n",
    "Unlike standard European options, digital barrier options provide a fixed payout (typically binary) if the barrier condition is met or not met, depending on the option type.\n",
    "\n",
    "## Objectives\n",
    "\n",
    "- Implement a Monte Carlo pricing model for digital barrier options.\n",
    "- Analyze and compare different types of barrier options:\n",
    "  - Up-and-In Call\n",
    "  - Up-and-Out Call\n",
    "  - Down-and-In Put\n",
    "  - Down-and-Out Put\n",
    "- Simulate the underlying asset price paths.\n",
    "- Visualize the impact of barrier levels and volatility on option prices.\n",
    "- Validate the model with sample input data.\n",
    "\n",
    "## Assumptions\n",
    "\n",
    "- Constant interest rate and volatility.\n",
    "- Geometric Brownian Motion for asset price evolution.\n",
    "- No dividends.\n",
    "- Discrete monitoring of the barrier at each time step.\n",
    "\n"
   ]
  },
  {
   "cell_type": "code",
   "execution_count": 2,
   "id": "17369842",
   "metadata": {},
   "outputs": [],
   "source": [
    "import numpy as np\n",
    "\n",
    "def monte_carlo_digital_barrier(\n",
    "    S: float,\n",
    "    K: float,\n",
    "    T: float,\n",
    "    r: float,\n",
    "    sigma: float,\n",
    "    barrier: float,\n",
    "    option_type: str = \"call\",\n",
    "    barrier_type: str = \"up-and-in\",\n",
    "    payout: float = 1.0,\n",
    "    n_simulations: int = 10000,\n",
    "    n_steps: int = 100\n",
    ") -> float:\n",
    "    \n",
    "\n",
    "    # Validations\n",
    "    if option_type not in {\"call\", \"put\"}:\n",
    "        raise ValueError(\"option_type must be 'call' or 'put'\")\n",
    "    if barrier_type not in {\"up-and-in\", \"up-and-out\", \"down-and-in\", \"down-and-out\"}:\n",
    "        raise ValueError(\"barrier_type must be one of 'up-and-in', 'up-and-out', 'down-and-in', 'down-and-out'\")\n",
    "\n",
    "    # Simulation parameters\n",
    "    dt = T / n_steps\n",
    "    discount_factor = np.exp(-r * T)\n",
    "    drift = (r - 0.5 * sigma**2) * dt\n",
    "    diffusion = sigma * np.sqrt(dt)\n",
    "\n",
    "    # Generate price paths\n",
    "    Z = np.random.normal(size=(n_simulations, n_steps))\n",
    "    log_returns = drift + diffusion * Z\n",
    "    log_paths = np.cumsum(log_returns, axis=1)\n",
    "    price_paths = S * np.exp(log_paths)\n",
    "    price_paths = np.concatenate([np.full((n_simulations, 1), S), price_paths], axis=1)\n",
    "\n",
    "    # Check barrier condition\n",
    "    barrier_hit = None\n",
    "    if \"up\" in barrier_type:\n",
    "        barrier_hit = np.any(price_paths >= barrier, axis=1)\n",
    "    elif \"down\" in barrier_type:\n",
    "        barrier_hit = np.any(price_paths <= barrier, axis=1)\n",
    "\n",
    "    # Determine which paths result in payout\n",
    "    if \"in\" in barrier_type:\n",
    "        active_paths = barrier_hit\n",
    "    else:  # \"out\"\n",
    "        active_paths = ~barrier_hit\n",
    "\n",
    "    # Payoff depends only on final spot relative to strike\n",
    "    if option_type == \"call\":\n",
    "        in_the_money = price_paths[:, -1] > K\n",
    "    else:\n",
    "        in_the_money = price_paths[:, -1] < K\n",
    "\n",
    "    # Final payoff (digital fixed amount if both conditions met)\n",
    "    payoffs = payout * (active_paths & in_the_money)\n",
    "\n",
    "    return discount_factor * np.mean(payoffs)"
   ]
  },
  {
   "cell_type": "markdown",
   "id": "92a852f5",
   "metadata": {},
   "source": [
    "#### up-and-in call"
   ]
  },
  {
   "cell_type": "code",
   "execution_count": 3,
   "id": "a9ae91e7",
   "metadata": {},
   "outputs": [
    {
     "name": "stdout",
     "output_type": "stream",
     "text": [
      "Up-and-in Call on AAPL: $0.4145\n"
     ]
    }
   ],
   "source": [
    "# Parameters\n",
    "S = 195.00          # Current price of AAPL\n",
    "K = 200.00          # Strike price\n",
    "barrier = 205.00    # Barrier level\n",
    "T = 0.25            # Time to maturity (in years)\n",
    "r = 0.05            # Risk-free rate\n",
    "sigma = 0.25        # Volatility\n",
    "option_type = \"call\"\n",
    "barrier_type = \"up-and-in\"\n",
    "payout = 1.0\n",
    "\n",
    "# Monte Carlo config\n",
    "n_simulations = 10000\n",
    "n_steps = 100\n",
    "\n",
    "# Compute digital barrier price\n",
    "price = monte_carlo_digital_barrier(\n",
    "    S, K, T, r, sigma,\n",
    "    barrier=barrier,\n",
    "    option_type=option_type,\n",
    "    barrier_type=barrier_type,\n",
    "    payout=payout,\n",
    "    n_simulations=n_simulations,\n",
    "    n_steps=n_steps\n",
    ")\n",
    "\n",
    "print(f\"{barrier_type.capitalize()} {option_type.capitalize()} on AAPL: ${price:.4f}\")"
   ]
  },
  {
   "cell_type": "markdown",
   "id": "7869302b",
   "metadata": {},
   "source": [
    "#### Visualization"
   ]
  },
  {
   "cell_type": "code",
   "execution_count": 5,
   "id": "e8922862",
   "metadata": {},
   "outputs": [
    {
     "data": {
      "application/vnd.plotly.v1+json": {
       "config": {
        "plotlyServerURL": "https://plot.ly"
       },
       "data": [
        {
         "colorscale": [
          [
           0,
           "#440154"
          ],
          [
           0.1111111111111111,
           "#482878"
          ],
          [
           0.2222222222222222,
           "#3e4989"
          ],
          [
           0.3333333333333333,
           "#31688e"
          ],
          [
           0.4444444444444444,
           "#26828e"
          ],
          [
           0.5555555555555556,
           "#1f9e89"
          ],
          [
           0.6666666666666666,
           "#35b779"
          ],
          [
           0.7777777777777778,
           "#6ece58"
          ],
          [
           0.8888888888888888,
           "#b5de2b"
          ],
          [
           1,
           "#fde725"
          ]
         ],
         "type": "surface",
         "x": [
          180,
          181.57894736842104,
          183.1578947368421,
          184.73684210526315,
          186.31578947368422,
          187.89473684210526,
          189.4736842105263,
          191.05263157894737,
          192.6315789473684,
          194.21052631578948,
          195.78947368421052,
          197.3684210526316,
          198.94736842105263,
          200.5263157894737,
          202.10526315789474,
          203.68421052631578,
          205.26315789473685,
          206.8421052631579,
          208.42105263157896,
          210
         ],
         "y": [
          190,
          191.57894736842104,
          193.1578947368421,
          194.73684210526315,
          196.31578947368422,
          197.89473684210526,
          199.4736842105263,
          201.05263157894737,
          202.6315789473684,
          204.21052631578948,
          205.78947368421052,
          207.3684210526316,
          208.94736842105263,
          210.5263157894737,
          212.10526315789474,
          213.68421052631578,
          215.26315789473685,
          216.8421052631579,
          218.42105263157896,
          220
         ],
         "z": [
          [
           0.7502299357751853,
           0.7321243427661307,
           0.6909752677455524,
           0.6758324081379795,
           0.6432423407216814,
           0.6336957553169074,
           0.6034100361017616,
           0.5724659316862866,
           0.5537019534769029,
           0.5257205824629095,
           0.4911553594456237,
           0.45988206242998414,
           0.44836032142422216,
           0.40424851300216214,
           0.385813727392943,
           0.3854845347927784,
           0.3456522301728585,
           0.31832924435919446,
           0.30878265895442025,
           0.2765217841382868
          ],
          [
           0.7446336615723866,
           0.7163230979582287,
           0.691304460345717,
           0.6830746453416013,
           0.6573976225287603,
           0.6257951329129563,
           0.603080843501597,
           0.574770279887439,
           0.5352671678676838,
           0.5211118860606048,
           0.4990559818495747,
           0.46514914403261814,
           0.4559317512280086,
           0.4282795728141799,
           0.3891056533945893,
           0.36342863058174835,
           0.35849074157927896,
           0.324913096362487,
           0.3133913553567251,
           0.2804720953402623
          ],
          [
           0.7456212393728805,
           0.7367330391684356,
           0.6857081861429184,
           0.6866957639434123,
           0.6580560077290897,
           0.633037370116578,
           0.5958386062979751,
           0.5668696574834879,
           0.5346087826673545,
           0.5316460492658729,
           0.4796336184398618,
           0.4631739884316304,
           0.4486895140243868,
           0.4144534836072656,
           0.3844969569922845,
           0.383180186591626,
           0.34663980797335237,
           0.33511806696759044,
           0.3114161997557373,
           0.2880435251440488
          ],
          [
           0.7466088171733744,
           0.7202734091602041,
           0.6932796159467047,
           0.6652982449327114,
           0.6442299185221753,
           0.6350125257175658,
           0.6103230807052187,
           0.5816833244908961,
           0.5497516422749273,
           0.5319752418660374,
           0.4904969742452944,
           0.4671242996336059,
           0.4648199514324535,
           0.40819882420413767,
           0.40227335740117437,
           0.3535528525768095,
           0.35322365997664495,
           0.33577645216791974,
           0.3008820365504692,
           0.2998944587499753
          ],
          [
           0.7360746539681062,
           0.690316882545223,
           0.682416260141272,
           0.6323789849162488,
           0.6287578663144379,
           0.6261243255131208,
           0.5813541318907316,
           0.5774038206887561,
           0.5523851830762444,
           0.5148572266574768,
           0.4947764780474346,
           0.4852298926426604,
           0.4523106326261977,
           0.4230124912115459,
           0.4006273944003512,
           0.3710000603855348,
           0.36079508978043134,
           0.3403851485702245,
           0.308124273754091,
           0.2903478733452011
          ],
          [
           0.697559119748845,
           0.6787951415394612,
           0.6735280599368272,
           0.655093274327608,
           0.6294162515147671,
           0.6053851917027493,
           0.5902423320951765,
           0.5609441906805246,
           0.5346087826673545,
           0.5267081602634034,
           0.5053106412527028,
           0.4763416924382155,
           0.44770193622389287,
           0.4263044172131921,
           0.3841677643921199,
           0.3756087567878396,
           0.35454043037730343,
           0.3311677557656149,
           0.2939689919470121,
           0.29001868074503656
          ],
          [
           0.6725404821363333,
           0.6580560077290897,
           0.6521305409261263,
           0.6317205997159195,
           0.6129566215065357,
           0.5945218358973166,
           0.5760870502880976,
           0.5635777314818416,
           0.5194659230597817,
           0.5138696488569829,
           0.49016778164512986,
           0.46745349223377053,
           0.4648199514324535,
           0.419391372609735,
           0.40161497220084513,
           0.3640870157820776,
           0.35157769697582175,
           0.3186584369593591,
           0.3104286219552434,
           0.29759011054882295
          ],
          [
           0.6494970001248093,
           0.6284286737142732,
           0.627770288513944,
           0.6067019621034078,
           0.6116398511058772,
           0.5899131394950119,
           0.5583106498792076,
           0.5398758642699885,
           0.5263789676632389,
           0.5082733746541843,
           0.4592236772296549,
           0.4720621886360753,
           0.4516522474258684,
           0.40819882420413767,
           0.39568950539788184,
           0.3700124825850409,
           0.3430186893715415,
           0.3305093705652857,
           0.305490732952774,
           0.29528576234767057
          ],
          [
           0.6146025845073588,
           0.6211864365106514,
           0.6106522733053833,
           0.5922174876961642,
           0.5760870502880976,
           0.5616025758808539,
           0.5579814572790429,
           0.5369131308685069,
           0.5138696488569829,
           0.4931305150466115,
           0.4819379666410141,
           0.4493478992247161,
           0.444080817622082,
           0.4032609352016682,
           0.39075161639541245,
           0.3627702453814191,
           0.35322365997664495,
           0.32919260016462715,
           0.2870559473435549,
           0.28573917694289636
          ],
          [
           0.591559102495835,
           0.6001181101001153,
           0.5905715246953411,
           0.5586398424793723,
           0.5579814572790429,
           0.5359255530680129,
           0.5293417010647204,
           0.5099193376550074,
           0.5023479078512211,
           0.4947764780474346,
           0.47173299603591073,
           0.4358510026179664,
           0.42169572081088735,
           0.40688205380347914,
           0.39404354239705874,
           0.37791310498899194,
           0.3598075119799375,
           0.341701918970883,
           0.31207458495606655,
           0.2939689919470121
          ],
          [
           0.5744410872872744,
           0.5537019534769029,
           0.5454721384727872,
           0.5313168566657083,
           0.5253913898627449,
           0.5118944932559952,
           0.4957640558479285,
           0.5023479078512211,
           0.47996281104002636,
           0.4707454182354168,
           0.4519814400260331,
           0.4417764694209297,
           0.4170870244085826,
           0.4147826762074302,
           0.38811807559409545,
           0.35750316377878505,
           0.3446646523723646,
           0.324913096362487,
           0.3104286219552434,
           0.27718016933861606
          ],
          [
           0.5244038120622511,
           0.5224286564612634,
           0.53427959006719,
           0.5161739970581353,
           0.5250621972625803,
           0.4990559818495747,
           0.5000435596500686,
           0.4737081516368985,
           0.46021125503014876,
           0.4519814400260331,
           0.446714358423399,
           0.4279503802140153,
           0.4223541060112166,
           0.3808758383904736,
           0.36606217138306535,
           0.3535528525768095,
           0.34663980797335237,
           0.3285342149642979,
           0.30516154035260934,
           0.27849693973927453
          ],
          [
           0.5138696488569829,
           0.49543486324776387,
           0.4937889002469407,
           0.48918020384463595,
           0.47403734423706306,
           0.48325473704167266,
           0.46119883283064267,
           0.47140380343574606,
           0.4374969656187895,
           0.4365093878182956,
           0.4095155946047962,
           0.42498764681253365,
           0.4177454096089118,
           0.40754043900380843,
           0.37955906798981515,
           0.36639136398323,
           0.34005595597005983,
           0.33380129656693197,
           0.30647831075326787,
           0.29429818454717666
          ],
          [
           0.47831684803920327,
           0.46745349223377053,
           0.460869640230478,
           0.4789752332395325,
           0.45889448462949023,
           0.4486895140243868,
           0.44473920282241125,
           0.4315714988158262,
           0.42531683941269827,
           0.41083236500545467,
           0.40819882420413767,
           0.40754043900380843,
           0.3900932311950832,
           0.3700124825850409,
           0.3614534749807606,
           0.346969000573517,
           0.34005595597005983,
           0.33281371876643806,
           0.305490732952774,
           0.28540998434273174
          ],
          [
           0.4328882692164847,
           0.42432926161220436,
           0.43091311361549695,
           0.4434224324217528,
           0.41741621700874726,
           0.4289379580145092,
           0.42762118761385065,
           0.41313671320660705,
           0.4151118688075948,
           0.4121491354061132,
           0.399969009200022,
           0.39108080899557707,
           0.3733044085866872,
           0.3700124825850409,
           0.3476273857738462,
           0.3393975707697306,
           0.33577645216791974,
           0.3097702367549141,
           0.28837271774421336,
           0.27685097673845144
          ],
          [
           0.4269628024135214,
           0.4134659058067717,
           0.4062236686031499,
           0.3917391941959063,
           0.3877888829939308,
           0.4151118688075948,
           0.402602550001339,
           0.38713049779360154,
           0.3894348459947539,
           0.3854845347927784,
           0.3627702453814191,
           0.36309943798158373,
           0.3512485043756572,
           0.3565155859782912,
           0.3272174445636394,
           0.34400626717203536,
           0.32096278516051147,
           0.29791930314898757,
           0.2982484957491522,
           0.27849693973927453
          ],
          [
           0.37659633458833347,
           0.38383857179195524,
           0.3742919863871811,
           0.3555280081777973,
           0.3716584455858641,
           0.3733044085866872,
           0.37659633458833347,
           0.3686957121843824,
           0.3512485043756572,
           0.34663980797335237,
           0.3555280081777973,
           0.3393975707697306,
           0.3456522301728585,
           0.3242547111621577,
           0.3278758297639687,
           0.3100994293550788,
           0.3097702367549141,
           0.2906770659453658,
           0.2972609179486583,
           0.26401246533203093
          ],
          [
           0.35157769697582175,
           0.3565155859782912,
           0.3519068895759864,
           0.35849074157927896,
           0.34894415617450475,
           0.33511806696759044,
           0.35322365997664495,
           0.346969000573517,
           0.3528944673764803,
           0.32688825196347476,
           0.3216211703608407,
           0.33511806696759044,
           0.32326713336166385,
           0.3071366959535971,
           0.30516154035260934,
           0.30516154035260934,
           0.2903478733452011,
           0.2778385545389453,
           0.2643416579321956,
           0.25281991692643363
          ],
          [
           0.32227955556116994,
           0.3272174445636394,
           0.3318261409659442,
           0.3156957035578774,
           0.3199752073600176,
           0.3252422889626516,
           0.3272174445636394,
           0.31470812575738355,
           0.30944104415474954,
           0.30911185155458487,
           0.3048323477524447,
           0.3100994293550788,
           0.2989068809494814,
           0.2758633989379575,
           0.28080128794042697,
           0.2929814141465182,
           0.27421743593713443,
           0.2778385545389453,
           0.2501863761251166,
           0.249857183524952
          ],
          [
           0.30351557735178625,
           0.2989068809494814,
           0.29265222154635356,
           0.29660253274832904,
           0.3021988069511277,
           0.2929814141465182,
           0.29495656974750595,
           0.2877143325438841,
           0.29265222154635356,
           0.2929814141465182,
           0.2778385545389453,
           0.27849693973927453,
           0.28837271774421336,
           0.28244725094125006,
           0.26565842833285414,
           0.26993793213499423,
           0.25380749472692754,
           0.26203730973104317,
           0.2462360649231411,
           0.23142239791573288
          ]
         ]
        }
       ],
       "layout": {
        "autosize": true,
        "height": 700,
        "scene": {
         "xaxis": {
          "title": {
           "text": "Strike (K)"
          }
         },
         "yaxis": {
          "title": {
           "text": "Barrier (B)"
          }
         },
         "zaxis": {
          "title": {
           "text": "Option Price"
          }
         }
        },
        "template": {
         "data": {
          "bar": [
           {
            "error_x": {
             "color": "#2a3f5f"
            },
            "error_y": {
             "color": "#2a3f5f"
            },
            "marker": {
             "line": {
              "color": "#E5ECF6",
              "width": 0.5
             },
             "pattern": {
              "fillmode": "overlay",
              "size": 10,
              "solidity": 0.2
             }
            },
            "type": "bar"
           }
          ],
          "barpolar": [
           {
            "marker": {
             "line": {
              "color": "#E5ECF6",
              "width": 0.5
             },
             "pattern": {
              "fillmode": "overlay",
              "size": 10,
              "solidity": 0.2
             }
            },
            "type": "barpolar"
           }
          ],
          "carpet": [
           {
            "aaxis": {
             "endlinecolor": "#2a3f5f",
             "gridcolor": "white",
             "linecolor": "white",
             "minorgridcolor": "white",
             "startlinecolor": "#2a3f5f"
            },
            "baxis": {
             "endlinecolor": "#2a3f5f",
             "gridcolor": "white",
             "linecolor": "white",
             "minorgridcolor": "white",
             "startlinecolor": "#2a3f5f"
            },
            "type": "carpet"
           }
          ],
          "choropleth": [
           {
            "colorbar": {
             "outlinewidth": 0,
             "ticks": ""
            },
            "type": "choropleth"
           }
          ],
          "contour": [
           {
            "colorbar": {
             "outlinewidth": 0,
             "ticks": ""
            },
            "colorscale": [
             [
              0,
              "#0d0887"
             ],
             [
              0.1111111111111111,
              "#46039f"
             ],
             [
              0.2222222222222222,
              "#7201a8"
             ],
             [
              0.3333333333333333,
              "#9c179e"
             ],
             [
              0.4444444444444444,
              "#bd3786"
             ],
             [
              0.5555555555555556,
              "#d8576b"
             ],
             [
              0.6666666666666666,
              "#ed7953"
             ],
             [
              0.7777777777777778,
              "#fb9f3a"
             ],
             [
              0.8888888888888888,
              "#fdca26"
             ],
             [
              1,
              "#f0f921"
             ]
            ],
            "type": "contour"
           }
          ],
          "contourcarpet": [
           {
            "colorbar": {
             "outlinewidth": 0,
             "ticks": ""
            },
            "type": "contourcarpet"
           }
          ],
          "heatmap": [
           {
            "colorbar": {
             "outlinewidth": 0,
             "ticks": ""
            },
            "colorscale": [
             [
              0,
              "#0d0887"
             ],
             [
              0.1111111111111111,
              "#46039f"
             ],
             [
              0.2222222222222222,
              "#7201a8"
             ],
             [
              0.3333333333333333,
              "#9c179e"
             ],
             [
              0.4444444444444444,
              "#bd3786"
             ],
             [
              0.5555555555555556,
              "#d8576b"
             ],
             [
              0.6666666666666666,
              "#ed7953"
             ],
             [
              0.7777777777777778,
              "#fb9f3a"
             ],
             [
              0.8888888888888888,
              "#fdca26"
             ],
             [
              1,
              "#f0f921"
             ]
            ],
            "type": "heatmap"
           }
          ],
          "heatmapgl": [
           {
            "colorbar": {
             "outlinewidth": 0,
             "ticks": ""
            },
            "colorscale": [
             [
              0,
              "#0d0887"
             ],
             [
              0.1111111111111111,
              "#46039f"
             ],
             [
              0.2222222222222222,
              "#7201a8"
             ],
             [
              0.3333333333333333,
              "#9c179e"
             ],
             [
              0.4444444444444444,
              "#bd3786"
             ],
             [
              0.5555555555555556,
              "#d8576b"
             ],
             [
              0.6666666666666666,
              "#ed7953"
             ],
             [
              0.7777777777777778,
              "#fb9f3a"
             ],
             [
              0.8888888888888888,
              "#fdca26"
             ],
             [
              1,
              "#f0f921"
             ]
            ],
            "type": "heatmapgl"
           }
          ],
          "histogram": [
           {
            "marker": {
             "pattern": {
              "fillmode": "overlay",
              "size": 10,
              "solidity": 0.2
             }
            },
            "type": "histogram"
           }
          ],
          "histogram2d": [
           {
            "colorbar": {
             "outlinewidth": 0,
             "ticks": ""
            },
            "colorscale": [
             [
              0,
              "#0d0887"
             ],
             [
              0.1111111111111111,
              "#46039f"
             ],
             [
              0.2222222222222222,
              "#7201a8"
             ],
             [
              0.3333333333333333,
              "#9c179e"
             ],
             [
              0.4444444444444444,
              "#bd3786"
             ],
             [
              0.5555555555555556,
              "#d8576b"
             ],
             [
              0.6666666666666666,
              "#ed7953"
             ],
             [
              0.7777777777777778,
              "#fb9f3a"
             ],
             [
              0.8888888888888888,
              "#fdca26"
             ],
             [
              1,
              "#f0f921"
             ]
            ],
            "type": "histogram2d"
           }
          ],
          "histogram2dcontour": [
           {
            "colorbar": {
             "outlinewidth": 0,
             "ticks": ""
            },
            "colorscale": [
             [
              0,
              "#0d0887"
             ],
             [
              0.1111111111111111,
              "#46039f"
             ],
             [
              0.2222222222222222,
              "#7201a8"
             ],
             [
              0.3333333333333333,
              "#9c179e"
             ],
             [
              0.4444444444444444,
              "#bd3786"
             ],
             [
              0.5555555555555556,
              "#d8576b"
             ],
             [
              0.6666666666666666,
              "#ed7953"
             ],
             [
              0.7777777777777778,
              "#fb9f3a"
             ],
             [
              0.8888888888888888,
              "#fdca26"
             ],
             [
              1,
              "#f0f921"
             ]
            ],
            "type": "histogram2dcontour"
           }
          ],
          "mesh3d": [
           {
            "colorbar": {
             "outlinewidth": 0,
             "ticks": ""
            },
            "type": "mesh3d"
           }
          ],
          "parcoords": [
           {
            "line": {
             "colorbar": {
              "outlinewidth": 0,
              "ticks": ""
             }
            },
            "type": "parcoords"
           }
          ],
          "pie": [
           {
            "automargin": true,
            "type": "pie"
           }
          ],
          "scatter": [
           {
            "fillpattern": {
             "fillmode": "overlay",
             "size": 10,
             "solidity": 0.2
            },
            "type": "scatter"
           }
          ],
          "scatter3d": [
           {
            "line": {
             "colorbar": {
              "outlinewidth": 0,
              "ticks": ""
             }
            },
            "marker": {
             "colorbar": {
              "outlinewidth": 0,
              "ticks": ""
             }
            },
            "type": "scatter3d"
           }
          ],
          "scattercarpet": [
           {
            "marker": {
             "colorbar": {
              "outlinewidth": 0,
              "ticks": ""
             }
            },
            "type": "scattercarpet"
           }
          ],
          "scattergeo": [
           {
            "marker": {
             "colorbar": {
              "outlinewidth": 0,
              "ticks": ""
             }
            },
            "type": "scattergeo"
           }
          ],
          "scattergl": [
           {
            "marker": {
             "colorbar": {
              "outlinewidth": 0,
              "ticks": ""
             }
            },
            "type": "scattergl"
           }
          ],
          "scattermapbox": [
           {
            "marker": {
             "colorbar": {
              "outlinewidth": 0,
              "ticks": ""
             }
            },
            "type": "scattermapbox"
           }
          ],
          "scatterpolar": [
           {
            "marker": {
             "colorbar": {
              "outlinewidth": 0,
              "ticks": ""
             }
            },
            "type": "scatterpolar"
           }
          ],
          "scatterpolargl": [
           {
            "marker": {
             "colorbar": {
              "outlinewidth": 0,
              "ticks": ""
             }
            },
            "type": "scatterpolargl"
           }
          ],
          "scatterternary": [
           {
            "marker": {
             "colorbar": {
              "outlinewidth": 0,
              "ticks": ""
             }
            },
            "type": "scatterternary"
           }
          ],
          "surface": [
           {
            "colorbar": {
             "outlinewidth": 0,
             "ticks": ""
            },
            "colorscale": [
             [
              0,
              "#0d0887"
             ],
             [
              0.1111111111111111,
              "#46039f"
             ],
             [
              0.2222222222222222,
              "#7201a8"
             ],
             [
              0.3333333333333333,
              "#9c179e"
             ],
             [
              0.4444444444444444,
              "#bd3786"
             ],
             [
              0.5555555555555556,
              "#d8576b"
             ],
             [
              0.6666666666666666,
              "#ed7953"
             ],
             [
              0.7777777777777778,
              "#fb9f3a"
             ],
             [
              0.8888888888888888,
              "#fdca26"
             ],
             [
              1,
              "#f0f921"
             ]
            ],
            "type": "surface"
           }
          ],
          "table": [
           {
            "cells": {
             "fill": {
              "color": "#EBF0F8"
             },
             "line": {
              "color": "white"
             }
            },
            "header": {
             "fill": {
              "color": "#C8D4E3"
             },
             "line": {
              "color": "white"
             }
            },
            "type": "table"
           }
          ]
         },
         "layout": {
          "annotationdefaults": {
           "arrowcolor": "#2a3f5f",
           "arrowhead": 0,
           "arrowwidth": 1
          },
          "autotypenumbers": "strict",
          "coloraxis": {
           "colorbar": {
            "outlinewidth": 0,
            "ticks": ""
           }
          },
          "colorscale": {
           "diverging": [
            [
             0,
             "#8e0152"
            ],
            [
             0.1,
             "#c51b7d"
            ],
            [
             0.2,
             "#de77ae"
            ],
            [
             0.3,
             "#f1b6da"
            ],
            [
             0.4,
             "#fde0ef"
            ],
            [
             0.5,
             "#f7f7f7"
            ],
            [
             0.6,
             "#e6f5d0"
            ],
            [
             0.7,
             "#b8e186"
            ],
            [
             0.8,
             "#7fbc41"
            ],
            [
             0.9,
             "#4d9221"
            ],
            [
             1,
             "#276419"
            ]
           ],
           "sequential": [
            [
             0,
             "#0d0887"
            ],
            [
             0.1111111111111111,
             "#46039f"
            ],
            [
             0.2222222222222222,
             "#7201a8"
            ],
            [
             0.3333333333333333,
             "#9c179e"
            ],
            [
             0.4444444444444444,
             "#bd3786"
            ],
            [
             0.5555555555555556,
             "#d8576b"
            ],
            [
             0.6666666666666666,
             "#ed7953"
            ],
            [
             0.7777777777777778,
             "#fb9f3a"
            ],
            [
             0.8888888888888888,
             "#fdca26"
            ],
            [
             1,
             "#f0f921"
            ]
           ],
           "sequentialminus": [
            [
             0,
             "#0d0887"
            ],
            [
             0.1111111111111111,
             "#46039f"
            ],
            [
             0.2222222222222222,
             "#7201a8"
            ],
            [
             0.3333333333333333,
             "#9c179e"
            ],
            [
             0.4444444444444444,
             "#bd3786"
            ],
            [
             0.5555555555555556,
             "#d8576b"
            ],
            [
             0.6666666666666666,
             "#ed7953"
            ],
            [
             0.7777777777777778,
             "#fb9f3a"
            ],
            [
             0.8888888888888888,
             "#fdca26"
            ],
            [
             1,
             "#f0f921"
            ]
           ]
          },
          "colorway": [
           "#636efa",
           "#EF553B",
           "#00cc96",
           "#ab63fa",
           "#FFA15A",
           "#19d3f3",
           "#FF6692",
           "#B6E880",
           "#FF97FF",
           "#FECB52"
          ],
          "font": {
           "color": "#2a3f5f"
          },
          "geo": {
           "bgcolor": "white",
           "lakecolor": "white",
           "landcolor": "#E5ECF6",
           "showlakes": true,
           "showland": true,
           "subunitcolor": "white"
          },
          "hoverlabel": {
           "align": "left"
          },
          "hovermode": "closest",
          "mapbox": {
           "style": "light"
          },
          "paper_bgcolor": "white",
          "plot_bgcolor": "#E5ECF6",
          "polar": {
           "angularaxis": {
            "gridcolor": "white",
            "linecolor": "white",
            "ticks": ""
           },
           "bgcolor": "#E5ECF6",
           "radialaxis": {
            "gridcolor": "white",
            "linecolor": "white",
            "ticks": ""
           }
          },
          "scene": {
           "xaxis": {
            "backgroundcolor": "#E5ECF6",
            "gridcolor": "white",
            "gridwidth": 2,
            "linecolor": "white",
            "showbackground": true,
            "ticks": "",
            "zerolinecolor": "white"
           },
           "yaxis": {
            "backgroundcolor": "#E5ECF6",
            "gridcolor": "white",
            "gridwidth": 2,
            "linecolor": "white",
            "showbackground": true,
            "ticks": "",
            "zerolinecolor": "white"
           },
           "zaxis": {
            "backgroundcolor": "#E5ECF6",
            "gridcolor": "white",
            "gridwidth": 2,
            "linecolor": "white",
            "showbackground": true,
            "ticks": "",
            "zerolinecolor": "white"
           }
          },
          "shapedefaults": {
           "line": {
            "color": "#2a3f5f"
           }
          },
          "ternary": {
           "aaxis": {
            "gridcolor": "white",
            "linecolor": "white",
            "ticks": ""
           },
           "baxis": {
            "gridcolor": "white",
            "linecolor": "white",
            "ticks": ""
           },
           "bgcolor": "#E5ECF6",
           "caxis": {
            "gridcolor": "white",
            "linecolor": "white",
            "ticks": ""
           }
          },
          "title": {
           "x": 0.05
          },
          "xaxis": {
           "automargin": true,
           "gridcolor": "white",
           "linecolor": "white",
           "ticks": "",
           "title": {
            "standoff": 15
           },
           "zerolinecolor": "white",
           "zerolinewidth": 2
          },
          "yaxis": {
           "automargin": true,
           "gridcolor": "white",
           "linecolor": "white",
           "ticks": "",
           "title": {
            "standoff": 15
           },
           "zerolinecolor": "white",
           "zerolinewidth": 2
          }
         }
        },
        "title": {
         "text": "Digital Barrier Option Price"
        }
       }
      }
     },
     "metadata": {},
     "output_type": "display_data"
    }
   ],
   "source": [
    "import plotly.graph_objects as go\n",
    "\n",
    "# Rango de strikes y barreras\n",
    "strike_range = np.linspace(180, 210, 20)\n",
    "barrier_range = np.linspace(190, 220, 20)\n",
    "\n",
    "Z = []\n",
    "for B in barrier_range:\n",
    "    row = []\n",
    "    for K_val in strike_range:\n",
    "        price = monte_carlo_digital_barrier(\n",
    "            S=S,\n",
    "            K=K_val,\n",
    "            T=T,\n",
    "            r=r,\n",
    "            sigma=sigma,\n",
    "            barrier=B,\n",
    "            option_type=option_type,\n",
    "            barrier_type=barrier_type,\n",
    "            payout=payout,\n",
    "            n_simulations=3000,  # reducimos para rapidez en la visualización\n",
    "            n_steps=50\n",
    "        )\n",
    "        row.append(price)\n",
    "    Z.append(row)\n",
    "\n",
    "# Convertimos a superficie 3D\n",
    "fig = go.Figure(data=[go.Surface(\n",
    "    z=Z,\n",
    "    x=strike_range,\n",
    "    y=barrier_range,\n",
    "    colorscale='Viridis'\n",
    ")])\n",
    "\n",
    "fig.update_layout(\n",
    "    title='Digital Barrier Option Price',\n",
    "    scene=dict(\n",
    "        xaxis_title='Strike (K)',\n",
    "        yaxis_title='Barrier (B)',\n",
    "        zaxis_title='Option Price'\n",
    "    ),\n",
    "    autosize=True,\n",
    "    height=700\n",
    ")\n",
    "\n",
    "fig.show()\n"
   ]
  }
 ],
 "metadata": {
  "kernelspec": {
   "display_name": "base",
   "language": "python",
   "name": "python3"
  },
  "language_info": {
   "codemirror_mode": {
    "name": "ipython",
    "version": 3
   },
   "file_extension": ".py",
   "mimetype": "text/x-python",
   "name": "python",
   "nbconvert_exporter": "python",
   "pygments_lexer": "ipython3",
   "version": "3.12.4"
  }
 },
 "nbformat": 4,
 "nbformat_minor": 5
}
