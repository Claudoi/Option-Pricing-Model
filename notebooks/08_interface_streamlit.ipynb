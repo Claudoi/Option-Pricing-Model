{
 "cells": [
  {
   "cell_type": "code",
   "execution_count": 4,
   "id": "9aa66422",
   "metadata": {},
   "outputs": [],
   "source": [
    "import streamlit as st\n",
    "import numpy as np\n",
    "import os, sys\n",
    "sys.path.append(os.path.abspath(\"..\"))\n",
    "\n",
    "from src.pricing_black_scholes import BlackScholesOption\n",
    "from src.pricing_montecarlo import MonteCarloOption\n",
    "from src.pricing_binomial import BinomialOption\n",
    "from src.greeks import BlackScholesGreeks\n"
   ]
  },
  {
   "cell_type": "markdown",
   "id": "8768edb5",
   "metadata": {},
   "source": [
    "### Option Pricing Interface\n",
    "This app allows you to price European and exotic options using different pricing models:\n",
    "- Black-Scholes (analytical)\n",
    "- Monte Carlo (simulation)\n",
    "- Binomial Tree (European and American)"
   ]
  },
  {
   "cell_type": "code",
   "execution_count": 5,
   "id": "c78a7128",
   "metadata": {},
   "outputs": [],
   "source": [
    "model = st.selectbox(\"Choose pricing model\", [\n",
    "    \"Black-Scholes\", \n",
    "    \"Monte Carlo\", \n",
    "    \"Binomial (European)\", \n",
    "    \"Binomial (American)\"\n",
    "])"
   ]
  },
  {
   "cell_type": "markdown",
   "id": "6b50a73d",
   "metadata": {},
   "source": [
    "##### Input Parameters"
   ]
  },
  {
   "cell_type": "code",
   "execution_count": 6,
   "id": "04f7943d",
   "metadata": {},
   "outputs": [],
   "source": [
    "S = st.number_input(\"Spot Price (S)\", min_value=0.01, value=100.0)\n",
    "K = st.number_input(\"Strike Price (K)\", min_value=0.01, value=100.0)\n",
    "T = st.number_input(\"Time to Maturity (T in years)\", min_value=0.01, value=1.0)\n",
    "r = st.number_input(\"Risk-Free Rate (r)\", value=0.05)\n",
    "sigma = st.number_input(\"Volatility (σ)\", min_value=0.001, value=0.2)\n",
    "option_type = st.selectbox(\"Option Type\", [\"call\", \"put\"])\n",
    "\n",
    "# Additional parameters depending on model\n",
    "if model == \"Monte Carlo\":\n",
    "    n_sim = st.slider(\"Number of Simulations\", 1000, 100000, 10000, step=1000)\n",
    "    n_steps = st.slider(\"Number of Time Steps\", 10, 500, 100, step=10)\n",
    "\n",
    "elif \"Binomial\" in model:\n",
    "    N = st.slider(\"Number of Steps in Binomial Tree\", 1, 500, 100, step=1)\n",
    "\n"
   ]
  },
  {
   "cell_type": "markdown",
   "id": "16a266f0",
   "metadata": {},
   "source": [
    "##### Price computation logic"
   ]
  },
  {
   "cell_type": "code",
   "execution_count": 7,
   "id": "3182280f",
   "metadata": {},
   "outputs": [],
   "source": [
    "if st.button(\"📊 Compute Price\"):\n",
    "    \n",
    "    if model == \"Black-Scholes\":\n",
    "        opt = BlackScholesOption(S, K, T, r, sigma, option_type)\n",
    "        price = opt.price()\n",
    "        st.success(f\"💰 Black-Scholes Price: {price:.4f}\")\n",
    "\n",
    "        st.subheader(\"📊 Greeks (analytical model)\")\n",
    "        greeks = opt.greeks()\n",
    "        st.json(greeks)\n",
    "\n",
    "        st.subheader(\"🧮 Greeks (explicit with BlackScholesGreeks)\")\n",
    "        greek_model = BlackScholesGreeks(S, K, T, r, sigma, option_type)\n",
    "        st.json({\n",
    "            \"delta\": greek_model.delta(),\n",
    "            \"gamma\": greek_model.gamma(),\n",
    "            \"vega\": greek_model.vega(),\n",
    "            \"theta\": greek_model.theta(),\n",
    "            \"rho\": greek_model.rho()\n",
    "        })\n",
    "\n",
    "    elif model == \"Monte Carlo\":\n",
    "        mc = MonteCarloOption(S, K, T, r, sigma, option_type, n_sim, n_steps)\n",
    "        price = mc.price_vanilla()\n",
    "        st.success(f\"💰 Estimated Price (Monte Carlo): {price:.4f}\")\n",
    "\n",
    "        st.subheader(\"📉 Estimated Greek (finite differences)\")\n",
    "        greek_to_show = st.selectbox(\"Choose Greek to Estimate\", [\"delta\", \"vega\", \"rho\", \"theta\"])\n",
    "        greek_val = mc.greek(greek_to_show)\n",
    "        st.write(f\"{greek_to_show.capitalize()}: {greek_val:.6f}\")\n",
    "\n",
    "    elif model == \"Binomial (European)\":\n",
    "        opt = BinomialOption(S, K, T, r, sigma, N, option_type)\n",
    "        price = opt.price_european()\n",
    "        st.success(f\"💰 European Binomial Price: {price:.4f}\")\n",
    "\n",
    "    elif model == \"Binomial (American)\":\n",
    "        opt = BinomialOption(S, K, T, r, sigma, N, option_type)\n",
    "        price = opt.price_american()\n",
    "        st.success(f\"💰 American Binomial Price: {price:.4f}\")\n"
   ]
  }
 ],
 "metadata": {
  "kernelspec": {
   "display_name": "base",
   "language": "python",
   "name": "python3"
  },
  "language_info": {
   "codemirror_mode": {
    "name": "ipython",
    "version": 3
   },
   "file_extension": ".py",
   "mimetype": "text/x-python",
   "name": "python",
   "nbconvert_exporter": "python",
   "pygments_lexer": "ipython3",
   "version": "3.12.4"
  }
 },
 "nbformat": 4,
 "nbformat_minor": 5
}
