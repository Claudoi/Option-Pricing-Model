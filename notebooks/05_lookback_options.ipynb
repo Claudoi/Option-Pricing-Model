{
 "cells": [
  {
   "cell_type": "markdown",
   "id": "e78094f7",
   "metadata": {},
   "source": [
    "# 05 – Lookback Options Pricing\n",
    "\n",
    "In this notebook, we explore **lookback options**, a class of exotic derivatives whose payoff depends on the historical maximum or minimum price of the underlying asset over the option’s lifetime.\n",
    "\n",
    "We implement pricing via **Monte Carlo simulation** using path tracking, and provide comparisons with market intuition and analytical insights.\n",
    "\n",
    "---\n",
    "\n",
    "### Types of Lookback Options\n",
    "\n",
    "- **Floating Strike Lookback Call**: Payoff = max(S) - S(T)\n",
    "- **Floating Strike Lookback Put**: Payoff = S(T) - min(S)\n",
    "- **Fixed Strike Lookback Call**: Payoff = max(S) - K\n",
    "- **Fixed Strike Lookback Put**: Payoff = K - min(S)\n",
    "\n",
    "---\n",
    "\n",
    "We begin with the Monte Carlo implementation for the most basic cases.\n"
   ]
  },
  {
   "cell_type": "code",
   "execution_count": null,
   "id": "0fff5a19",
   "metadata": {},
   "outputs": [],
   "source": [
    "import numpy as np\n",
    "\n",
    "def monte_carlo_lookback(\n",
    "    S: float,\n",
    "    K: float,\n",
    "    T: float,\n",
    "    r: float,\n",
    "    sigma: float,\n",
    "    option_type: str = \"call\",\n",
    "    strike_type: str = \"fixed\",\n",
    "    n_simulations: int = 10000,\n",
    "    n_steps: int = 100\n",
    ") -> float:\n",
    "    \"\"\"\n",
    "    Prices European-style lookback options using Monte Carlo simulation.\n",
    "    \"\"\"\n",
    "\n",
    "    # --- Input validation ---\n",
    "    if option_type not in {\"call\", \"put\"}:\n",
    "        raise ValueError(\"option_type must be either 'call' or 'put'\")\n",
    "    if strike_type not in {\"fixed\", \"floating\"}:\n",
    "        raise ValueError(\"strike_type must be either 'fixed' or 'floating'\")\n",
    "    if any(param <= 0 for param in [S, T, sigma, n_simulations, n_steps]):\n",
    "        raise ValueError(\"S, T, sigma, n_simulations and n_steps must be positive.\")\n",
    "\n",
    "    dt = T / n_steps\n",
    "    discount = np.exp(-r * T)\n",
    "\n",
    "\n",
    "    # Simulate asset paths\n",
    "    Z = np.random.normal(0, 1, size=(n_simulations, n_steps))\n",
    "    paths = np.zeros_like(Z)\n",
    "    paths[:, 0] = S\n",
    "\n",
    "    drift = (r - 0.5 * sigma**2) * dt\n",
    "    diffusion = sigma * np.sqrt(dt)\n",
    "\n",
    "\n",
    "    for t in range(1, n_steps):\n",
    "        paths[:, t] = paths[:, t-1] * np.exp(drift + diffusion * Z[:, t])\n",
    "\n",
    "    S_T = paths[:, -1]\n",
    "    S_max = np.max(paths, axis=1)\n",
    "    S_min = np.min(paths, axis=1)\n",
    "\n",
    "\n",
    "    # Compute payoffs\n",
    "    if strike_type == \"fixed\":\n",
    "        payoffs = (\n",
    "            np.maximum(S_max - K, 0) if option_type == \"call\"\n",
    "            else np.maximum(K - S_min, 0)\n",
    "        )\n",
    "    else:  # floating\n",
    "        payoffs = (\n",
    "            np.maximum(S_T - S_min, 0) if option_type == \"call\"\n",
    "            else np.maximum(S_max - S_T, 0)\n",
    "        )\n",
    "\n",
    "    return discount * np.mean(payoffs)\n"
   ]
  },
  {
   "cell_type": "markdown",
   "id": "13e2b7a8",
   "metadata": {},
   "source": [
    "#### Examples"
   ]
  },
  {
   "cell_type": "code",
   "execution_count": null,
   "id": "8c262d49",
   "metadata": {},
   "outputs": [
    {
     "name": "stdout",
     "output_type": "stream",
     "text": [
      "Lookback Option Prices (Monte Carlo):\n",
      "Fixed Strike Call:     25.4863\n",
      "Fixed Strike Put:      19.0815\n",
      "Floating Strike Call:  22.6628\n",
      "Floating Strike Put:   21.6295\n"
     ]
    }
   ],
   "source": [
    "# Parameters AAPL\n",
    "S = 211.16\n",
    "K = 210.0             # close to the current price\n",
    "T = 0.25              # 3 month ≃ 0.25 years\n",
    "r = 0.05              # 5 %\n",
    "sigma = 0.286         # 28.6 % (implied volatility)\n",
    "\n",
    "n_sim = 5000\n",
    "n_steps = 100\n",
    "\n",
    "\n",
    "# Run different scenarios\n",
    "fixed_call = monte_carlo_lookback(S, K, T, r, sigma, option_type='call', strike_type='fixed', n_simulations=n_sim, n_steps=n_steps)\n",
    "fixed_put = monte_carlo_lookback(S, K, T, r, sigma, option_type='put', strike_type='fixed', n_simulations=n_sim, n_steps=n_steps)\n",
    "floating_call = monte_carlo_lookback(S, K, T, r, sigma, option_type='call', strike_type='floating', n_simulations=n_sim, n_steps=n_steps)\n",
    "floating_put = monte_carlo_lookback(S, K, T, r, sigma, option_type='put', strike_type='floating', n_simulations=n_sim, n_steps=n_steps)\n",
    "\n",
    "\n",
    "# Show results\n",
    "print(\"Lookback Option Prices (Monte Carlo):\")\n",
    "print(f\"Fixed Strike Call:     {fixed_call:.4f}\")\n",
    "print(f\"Fixed Strike Put:      {fixed_put:.4f}\")\n",
    "print(f\"Floating Strike Call:  {floating_call:.4f}\")\n",
    "print(f\"Floating Strike Put:   {floating_put:.4f}\")\n"
   ]
  },
  {
   "cell_type": "markdown",
   "id": "dbdb3587",
   "metadata": {},
   "source": [
    "### 3d Graphic"
   ]
  },
  {
   "cell_type": "code",
   "execution_count": null,
   "id": "bade44d9",
   "metadata": {},
   "outputs": [
    {
     "data": {
      "application/vnd.plotly.v1+json": {
       "config": {
        "plotlyServerURL": "https://plot.ly"
       },
       "data": [
        {
         "colorscale": [
          [
           0,
           "#440154"
          ],
          [
           0.1111111111111111,
           "#482878"
          ],
          [
           0.2222222222222222,
           "#3e4989"
          ],
          [
           0.3333333333333333,
           "#31688e"
          ],
          [
           0.4444444444444444,
           "#26828e"
          ],
          [
           0.5555555555555556,
           "#1f9e89"
          ],
          [
           0.6666666666666666,
           "#35b779"
          ],
          [
           0.7777777777777778,
           "#6ece58"
          ],
          [
           0.8888888888888888,
           "#b5de2b"
          ],
          [
           1,
           "#fde725"
          ]
         ],
         "type": "surface",
         "x": [
          [
           0.05,
           0.05,
           0.05,
           0.05,
           0.05,
           0.05,
           0.05,
           0.05,
           0.05,
           0.05
          ],
          [
           0.1,
           0.1,
           0.1,
           0.1,
           0.1,
           0.1,
           0.1,
           0.1,
           0.1,
           0.1
          ],
          [
           0.15000000000000002,
           0.15000000000000002,
           0.15000000000000002,
           0.15000000000000002,
           0.15000000000000002,
           0.15000000000000002,
           0.15000000000000002,
           0.15000000000000002,
           0.15000000000000002,
           0.15000000000000002
          ],
          [
           0.2,
           0.2,
           0.2,
           0.2,
           0.2,
           0.2,
           0.2,
           0.2,
           0.2,
           0.2
          ],
          [
           0.25,
           0.25,
           0.25,
           0.25,
           0.25,
           0.25,
           0.25,
           0.25,
           0.25,
           0.25
          ],
          [
           0.3,
           0.3,
           0.3,
           0.3,
           0.3,
           0.3,
           0.3,
           0.3,
           0.3,
           0.3
          ],
          [
           0.35000000000000003,
           0.35000000000000003,
           0.35000000000000003,
           0.35000000000000003,
           0.35000000000000003,
           0.35000000000000003,
           0.35000000000000003,
           0.35000000000000003,
           0.35000000000000003,
           0.35000000000000003
          ],
          [
           0.4,
           0.4,
           0.4,
           0.4,
           0.4,
           0.4,
           0.4,
           0.4,
           0.4,
           0.4
          ],
          [
           0.45,
           0.45,
           0.45,
           0.45,
           0.45,
           0.45,
           0.45,
           0.45,
           0.45,
           0.45
          ],
          [
           0.5,
           0.5,
           0.5,
           0.5,
           0.5,
           0.5,
           0.5,
           0.5,
           0.5,
           0.5
          ]
         ],
         "y": [
          [
           0.1,
           0.3111111111111111,
           0.5222222222222223,
           0.7333333333333333,
           0.9444444444444444,
           1.1555555555555557,
           1.3666666666666667,
           1.577777777777778,
           1.788888888888889,
           2
          ],
          [
           0.1,
           0.3111111111111111,
           0.5222222222222223,
           0.7333333333333333,
           0.9444444444444444,
           1.1555555555555557,
           1.3666666666666667,
           1.577777777777778,
           1.788888888888889,
           2
          ],
          [
           0.1,
           0.3111111111111111,
           0.5222222222222223,
           0.7333333333333333,
           0.9444444444444444,
           1.1555555555555557,
           1.3666666666666667,
           1.577777777777778,
           1.788888888888889,
           2
          ],
          [
           0.1,
           0.3111111111111111,
           0.5222222222222223,
           0.7333333333333333,
           0.9444444444444444,
           1.1555555555555557,
           1.3666666666666667,
           1.577777777777778,
           1.788888888888889,
           2
          ],
          [
           0.1,
           0.3111111111111111,
           0.5222222222222223,
           0.7333333333333333,
           0.9444444444444444,
           1.1555555555555557,
           1.3666666666666667,
           1.577777777777778,
           1.788888888888889,
           2
          ],
          [
           0.1,
           0.3111111111111111,
           0.5222222222222223,
           0.7333333333333333,
           0.9444444444444444,
           1.1555555555555557,
           1.3666666666666667,
           1.577777777777778,
           1.788888888888889,
           2
          ],
          [
           0.1,
           0.3111111111111111,
           0.5222222222222223,
           0.7333333333333333,
           0.9444444444444444,
           1.1555555555555557,
           1.3666666666666667,
           1.577777777777778,
           1.788888888888889,
           2
          ],
          [
           0.1,
           0.3111111111111111,
           0.5222222222222223,
           0.7333333333333333,
           0.9444444444444444,
           1.1555555555555557,
           1.3666666666666667,
           1.577777777777778,
           1.788888888888889,
           2
          ],
          [
           0.1,
           0.3111111111111111,
           0.5222222222222223,
           0.7333333333333333,
           0.9444444444444444,
           1.1555555555555557,
           1.3666666666666667,
           1.577777777777778,
           1.788888888888889,
           2
          ],
          [
           0.1,
           0.3111111111111111,
           0.5222222222222223,
           0.7333333333333333,
           0.9444444444444444,
           1.1555555555555557,
           1.3666666666666667,
           1.577777777777778,
           1.788888888888889,
           2
          ]
         ],
         "z": [
          [
           3.01214473979935,
           6.070725842745159,
           8.749344698046368,
           10.950690782090312,
           13.263853098918128,
           15.548590874571916,
           17.48563443880708,
           19.79261935484144,
           21.173105804007516,
           23.335166200578513
          ],
          [
           5.427068406336272,
           10.156042039743523,
           13.617245784792624,
           16.930248458872835,
           19.736270751754535,
           22.634109516369193,
           25.19082509773224,
           27.351295810402096,
           29.80091362827986,
           32.61310627140359
          ],
          [
           7.855201639485692,
           14.232924226045968,
           19.409479049292536,
           22.735509702518684,
           26.267450935281722,
           29.1805167550178,
           32.85784216204495,
           35.61931944200029,
           38.775797839642856,
           40.80869717452494
          ],
          [
           10.155519847750657,
           18.42372618909869,
           23.901284846215766,
           28.880040446643232,
           33.96149046725112,
           37.31698826206185,
           39.714118651090644,
           43.54604179561827,
           46.09035892591377,
           48.90743479408298
          ],
          [
           12.564635491318361,
           21.941509875576116,
           29.35470732211916,
           34.386149120747085,
           38.669702301786764,
           43.52550084929628,
           48.10256472073633,
           50.62903659544947,
           55.995912045100994,
           58.83661462811265
          ],
          [
           14.75113723538404,
           26.623987531696798,
           34.8802587779058,
           40.77197079198511,
           45.59900769500767,
           51.44408766533766,
           55.002286788668954,
           58.439344821851776,
           64.23845180596372,
           68.2246117548917
          ],
          [
           17.32379921938347,
           29.500525531634032,
           38.675795202758124,
           44.828661273609626,
           52.51215527150588,
           59.11278521494376,
           62.43853837899966,
           65.80489123042257,
           71.62555146051747,
           74.05934502847862
          ],
          [
           19.095873321428755,
           34.31927671844627,
           44.33782417935249,
           50.8106784727188,
           58.327045816693584,
           63.71066874171242,
           68.00301347285935,
           76.30365115834717,
           79.78007731179288,
           79.44609220695857
          ],
          [
           21.20823218129606,
           37.79536078245505,
           48.927952789399676,
           54.72612517119984,
           64.59325816583267,
           72.688639511721,
           74.04633163116549,
           78.6800086877185,
           87.77692496078102,
           86.6319018812923
          ],
          [
           24.530312754885983,
           42.458644663273844,
           53.67069619125546,
           62.694423127996124,
           69.53117044539698,
           73.50370484463984,
           78.90500455238302,
           86.31011242005897,
           95.0163586690614,
           96.14143632040212
          ]
         ]
        }
       ],
       "layout": {
        "height": 600,
        "scene": {
         "xaxis": {
          "title": {
           "text": "Maturity (T)"
          }
         },
         "yaxis": {
          "title": {
           "text": "Volatility (σ)"
          }
         },
         "zaxis": {
          "title": {
           "text": "Option Price"
          }
         }
        },
        "template": {
         "data": {
          "bar": [
           {
            "error_x": {
             "color": "#2a3f5f"
            },
            "error_y": {
             "color": "#2a3f5f"
            },
            "marker": {
             "line": {
              "color": "#E5ECF6",
              "width": 0.5
             },
             "pattern": {
              "fillmode": "overlay",
              "size": 10,
              "solidity": 0.2
             }
            },
            "type": "bar"
           }
          ],
          "barpolar": [
           {
            "marker": {
             "line": {
              "color": "#E5ECF6",
              "width": 0.5
             },
             "pattern": {
              "fillmode": "overlay",
              "size": 10,
              "solidity": 0.2
             }
            },
            "type": "barpolar"
           }
          ],
          "carpet": [
           {
            "aaxis": {
             "endlinecolor": "#2a3f5f",
             "gridcolor": "white",
             "linecolor": "white",
             "minorgridcolor": "white",
             "startlinecolor": "#2a3f5f"
            },
            "baxis": {
             "endlinecolor": "#2a3f5f",
             "gridcolor": "white",
             "linecolor": "white",
             "minorgridcolor": "white",
             "startlinecolor": "#2a3f5f"
            },
            "type": "carpet"
           }
          ],
          "choropleth": [
           {
            "colorbar": {
             "outlinewidth": 0,
             "ticks": ""
            },
            "type": "choropleth"
           }
          ],
          "contour": [
           {
            "colorbar": {
             "outlinewidth": 0,
             "ticks": ""
            },
            "colorscale": [
             [
              0,
              "#0d0887"
             ],
             [
              0.1111111111111111,
              "#46039f"
             ],
             [
              0.2222222222222222,
              "#7201a8"
             ],
             [
              0.3333333333333333,
              "#9c179e"
             ],
             [
              0.4444444444444444,
              "#bd3786"
             ],
             [
              0.5555555555555556,
              "#d8576b"
             ],
             [
              0.6666666666666666,
              "#ed7953"
             ],
             [
              0.7777777777777778,
              "#fb9f3a"
             ],
             [
              0.8888888888888888,
              "#fdca26"
             ],
             [
              1,
              "#f0f921"
             ]
            ],
            "type": "contour"
           }
          ],
          "contourcarpet": [
           {
            "colorbar": {
             "outlinewidth": 0,
             "ticks": ""
            },
            "type": "contourcarpet"
           }
          ],
          "heatmap": [
           {
            "colorbar": {
             "outlinewidth": 0,
             "ticks": ""
            },
            "colorscale": [
             [
              0,
              "#0d0887"
             ],
             [
              0.1111111111111111,
              "#46039f"
             ],
             [
              0.2222222222222222,
              "#7201a8"
             ],
             [
              0.3333333333333333,
              "#9c179e"
             ],
             [
              0.4444444444444444,
              "#bd3786"
             ],
             [
              0.5555555555555556,
              "#d8576b"
             ],
             [
              0.6666666666666666,
              "#ed7953"
             ],
             [
              0.7777777777777778,
              "#fb9f3a"
             ],
             [
              0.8888888888888888,
              "#fdca26"
             ],
             [
              1,
              "#f0f921"
             ]
            ],
            "type": "heatmap"
           }
          ],
          "heatmapgl": [
           {
            "colorbar": {
             "outlinewidth": 0,
             "ticks": ""
            },
            "colorscale": [
             [
              0,
              "#0d0887"
             ],
             [
              0.1111111111111111,
              "#46039f"
             ],
             [
              0.2222222222222222,
              "#7201a8"
             ],
             [
              0.3333333333333333,
              "#9c179e"
             ],
             [
              0.4444444444444444,
              "#bd3786"
             ],
             [
              0.5555555555555556,
              "#d8576b"
             ],
             [
              0.6666666666666666,
              "#ed7953"
             ],
             [
              0.7777777777777778,
              "#fb9f3a"
             ],
             [
              0.8888888888888888,
              "#fdca26"
             ],
             [
              1,
              "#f0f921"
             ]
            ],
            "type": "heatmapgl"
           }
          ],
          "histogram": [
           {
            "marker": {
             "pattern": {
              "fillmode": "overlay",
              "size": 10,
              "solidity": 0.2
             }
            },
            "type": "histogram"
           }
          ],
          "histogram2d": [
           {
            "colorbar": {
             "outlinewidth": 0,
             "ticks": ""
            },
            "colorscale": [
             [
              0,
              "#0d0887"
             ],
             [
              0.1111111111111111,
              "#46039f"
             ],
             [
              0.2222222222222222,
              "#7201a8"
             ],
             [
              0.3333333333333333,
              "#9c179e"
             ],
             [
              0.4444444444444444,
              "#bd3786"
             ],
             [
              0.5555555555555556,
              "#d8576b"
             ],
             [
              0.6666666666666666,
              "#ed7953"
             ],
             [
              0.7777777777777778,
              "#fb9f3a"
             ],
             [
              0.8888888888888888,
              "#fdca26"
             ],
             [
              1,
              "#f0f921"
             ]
            ],
            "type": "histogram2d"
           }
          ],
          "histogram2dcontour": [
           {
            "colorbar": {
             "outlinewidth": 0,
             "ticks": ""
            },
            "colorscale": [
             [
              0,
              "#0d0887"
             ],
             [
              0.1111111111111111,
              "#46039f"
             ],
             [
              0.2222222222222222,
              "#7201a8"
             ],
             [
              0.3333333333333333,
              "#9c179e"
             ],
             [
              0.4444444444444444,
              "#bd3786"
             ],
             [
              0.5555555555555556,
              "#d8576b"
             ],
             [
              0.6666666666666666,
              "#ed7953"
             ],
             [
              0.7777777777777778,
              "#fb9f3a"
             ],
             [
              0.8888888888888888,
              "#fdca26"
             ],
             [
              1,
              "#f0f921"
             ]
            ],
            "type": "histogram2dcontour"
           }
          ],
          "mesh3d": [
           {
            "colorbar": {
             "outlinewidth": 0,
             "ticks": ""
            },
            "type": "mesh3d"
           }
          ],
          "parcoords": [
           {
            "line": {
             "colorbar": {
              "outlinewidth": 0,
              "ticks": ""
             }
            },
            "type": "parcoords"
           }
          ],
          "pie": [
           {
            "automargin": true,
            "type": "pie"
           }
          ],
          "scatter": [
           {
            "fillpattern": {
             "fillmode": "overlay",
             "size": 10,
             "solidity": 0.2
            },
            "type": "scatter"
           }
          ],
          "scatter3d": [
           {
            "line": {
             "colorbar": {
              "outlinewidth": 0,
              "ticks": ""
             }
            },
            "marker": {
             "colorbar": {
              "outlinewidth": 0,
              "ticks": ""
             }
            },
            "type": "scatter3d"
           }
          ],
          "scattercarpet": [
           {
            "marker": {
             "colorbar": {
              "outlinewidth": 0,
              "ticks": ""
             }
            },
            "type": "scattercarpet"
           }
          ],
          "scattergeo": [
           {
            "marker": {
             "colorbar": {
              "outlinewidth": 0,
              "ticks": ""
             }
            },
            "type": "scattergeo"
           }
          ],
          "scattergl": [
           {
            "marker": {
             "colorbar": {
              "outlinewidth": 0,
              "ticks": ""
             }
            },
            "type": "scattergl"
           }
          ],
          "scattermapbox": [
           {
            "marker": {
             "colorbar": {
              "outlinewidth": 0,
              "ticks": ""
             }
            },
            "type": "scattermapbox"
           }
          ],
          "scatterpolar": [
           {
            "marker": {
             "colorbar": {
              "outlinewidth": 0,
              "ticks": ""
             }
            },
            "type": "scatterpolar"
           }
          ],
          "scatterpolargl": [
           {
            "marker": {
             "colorbar": {
              "outlinewidth": 0,
              "ticks": ""
             }
            },
            "type": "scatterpolargl"
           }
          ],
          "scatterternary": [
           {
            "marker": {
             "colorbar": {
              "outlinewidth": 0,
              "ticks": ""
             }
            },
            "type": "scatterternary"
           }
          ],
          "surface": [
           {
            "colorbar": {
             "outlinewidth": 0,
             "ticks": ""
            },
            "colorscale": [
             [
              0,
              "#0d0887"
             ],
             [
              0.1111111111111111,
              "#46039f"
             ],
             [
              0.2222222222222222,
              "#7201a8"
             ],
             [
              0.3333333333333333,
              "#9c179e"
             ],
             [
              0.4444444444444444,
              "#bd3786"
             ],
             [
              0.5555555555555556,
              "#d8576b"
             ],
             [
              0.6666666666666666,
              "#ed7953"
             ],
             [
              0.7777777777777778,
              "#fb9f3a"
             ],
             [
              0.8888888888888888,
              "#fdca26"
             ],
             [
              1,
              "#f0f921"
             ]
            ],
            "type": "surface"
           }
          ],
          "table": [
           {
            "cells": {
             "fill": {
              "color": "#EBF0F8"
             },
             "line": {
              "color": "white"
             }
            },
            "header": {
             "fill": {
              "color": "#C8D4E3"
             },
             "line": {
              "color": "white"
             }
            },
            "type": "table"
           }
          ]
         },
         "layout": {
          "annotationdefaults": {
           "arrowcolor": "#2a3f5f",
           "arrowhead": 0,
           "arrowwidth": 1
          },
          "autotypenumbers": "strict",
          "coloraxis": {
           "colorbar": {
            "outlinewidth": 0,
            "ticks": ""
           }
          },
          "colorscale": {
           "diverging": [
            [
             0,
             "#8e0152"
            ],
            [
             0.1,
             "#c51b7d"
            ],
            [
             0.2,
             "#de77ae"
            ],
            [
             0.3,
             "#f1b6da"
            ],
            [
             0.4,
             "#fde0ef"
            ],
            [
             0.5,
             "#f7f7f7"
            ],
            [
             0.6,
             "#e6f5d0"
            ],
            [
             0.7,
             "#b8e186"
            ],
            [
             0.8,
             "#7fbc41"
            ],
            [
             0.9,
             "#4d9221"
            ],
            [
             1,
             "#276419"
            ]
           ],
           "sequential": [
            [
             0,
             "#0d0887"
            ],
            [
             0.1111111111111111,
             "#46039f"
            ],
            [
             0.2222222222222222,
             "#7201a8"
            ],
            [
             0.3333333333333333,
             "#9c179e"
            ],
            [
             0.4444444444444444,
             "#bd3786"
            ],
            [
             0.5555555555555556,
             "#d8576b"
            ],
            [
             0.6666666666666666,
             "#ed7953"
            ],
            [
             0.7777777777777778,
             "#fb9f3a"
            ],
            [
             0.8888888888888888,
             "#fdca26"
            ],
            [
             1,
             "#f0f921"
            ]
           ],
           "sequentialminus": [
            [
             0,
             "#0d0887"
            ],
            [
             0.1111111111111111,
             "#46039f"
            ],
            [
             0.2222222222222222,
             "#7201a8"
            ],
            [
             0.3333333333333333,
             "#9c179e"
            ],
            [
             0.4444444444444444,
             "#bd3786"
            ],
            [
             0.5555555555555556,
             "#d8576b"
            ],
            [
             0.6666666666666666,
             "#ed7953"
            ],
            [
             0.7777777777777778,
             "#fb9f3a"
            ],
            [
             0.8888888888888888,
             "#fdca26"
            ],
            [
             1,
             "#f0f921"
            ]
           ]
          },
          "colorway": [
           "#636efa",
           "#EF553B",
           "#00cc96",
           "#ab63fa",
           "#FFA15A",
           "#19d3f3",
           "#FF6692",
           "#B6E880",
           "#FF97FF",
           "#FECB52"
          ],
          "font": {
           "color": "#2a3f5f"
          },
          "geo": {
           "bgcolor": "white",
           "lakecolor": "white",
           "landcolor": "#E5ECF6",
           "showlakes": true,
           "showland": true,
           "subunitcolor": "white"
          },
          "hoverlabel": {
           "align": "left"
          },
          "hovermode": "closest",
          "mapbox": {
           "style": "light"
          },
          "paper_bgcolor": "white",
          "plot_bgcolor": "#E5ECF6",
          "polar": {
           "angularaxis": {
            "gridcolor": "white",
            "linecolor": "white",
            "ticks": ""
           },
           "bgcolor": "#E5ECF6",
           "radialaxis": {
            "gridcolor": "white",
            "linecolor": "white",
            "ticks": ""
           }
          },
          "scene": {
           "xaxis": {
            "backgroundcolor": "#E5ECF6",
            "gridcolor": "white",
            "gridwidth": 2,
            "linecolor": "white",
            "showbackground": true,
            "ticks": "",
            "zerolinecolor": "white"
           },
           "yaxis": {
            "backgroundcolor": "#E5ECF6",
            "gridcolor": "white",
            "gridwidth": 2,
            "linecolor": "white",
            "showbackground": true,
            "ticks": "",
            "zerolinecolor": "white"
           },
           "zaxis": {
            "backgroundcolor": "#E5ECF6",
            "gridcolor": "white",
            "gridwidth": 2,
            "linecolor": "white",
            "showbackground": true,
            "ticks": "",
            "zerolinecolor": "white"
           }
          },
          "shapedefaults": {
           "line": {
            "color": "#2a3f5f"
           }
          },
          "ternary": {
           "aaxis": {
            "gridcolor": "white",
            "linecolor": "white",
            "ticks": ""
           },
           "baxis": {
            "gridcolor": "white",
            "linecolor": "white",
            "ticks": ""
           },
           "bgcolor": "#E5ECF6",
           "caxis": {
            "gridcolor": "white",
            "linecolor": "white",
            "ticks": ""
           }
          },
          "title": {
           "x": 0.05
          },
          "xaxis": {
           "automargin": true,
           "gridcolor": "white",
           "linecolor": "white",
           "ticks": "",
           "title": {
            "standoff": 15
           },
           "zerolinecolor": "white",
           "zerolinewidth": 2
          },
          "yaxis": {
           "automargin": true,
           "gridcolor": "white",
           "linecolor": "white",
           "ticks": "",
           "title": {
            "standoff": 15
           },
           "zerolinecolor": "white",
           "zerolinewidth": 2
          }
         }
        },
        "title": {
         "text": "Lookback Floating Call Price vs Maturity & Volatility"
        },
        "width": 800
       }
      }
     },
     "metadata": {},
     "output_type": "display_data"
    }
   ],
   "source": [
    "import plotly.graph_objects as go\n",
    "\n",
    "\n",
    "# Grid of parameters\n",
    "sigmas = np.linspace(0.05, 0.5, 10)\n",
    "maturities = np.linspace(0.1, 2.0, 10)\n",
    "prices_grid = np.zeros((len(sigmas), len(maturities)))\n",
    "\n",
    "\n",
    "# Compute option prices for each (sigma, T) pair\n",
    "for i, sigma_i in enumerate(sigmas):\n",
    "    for j, T_j in enumerate(maturities):\n",
    "        price = monte_carlo_lookback(\n",
    "            S=S,\n",
    "            K=K,\n",
    "            T=T_j,\n",
    "            r=r,\n",
    "            sigma=sigma_i,\n",
    "            option_type=\"call\",\n",
    "            strike_type=\"floating\",\n",
    "            n_simulations=5000,  # reduce for faster preview\n",
    "            n_steps=100\n",
    "        )\n",
    "        prices_grid[i, j] = price\n",
    "\n",
    "\n",
    "# Create meshgrid for plotting\n",
    "Sigma, Tgrid = np.meshgrid(maturities, sigmas)\n",
    "\n",
    "\n",
    "# Plot\n",
    "fig = go.Figure(data=[go.Surface(\n",
    "    z=prices_grid,\n",
    "    x=Tgrid,\n",
    "    y=Sigma,\n",
    "    colorscale='Viridis'\n",
    ")])\n",
    "\n",
    "\n",
    "fig.update_layout(\n",
    "    title=\"Lookback Floating Call Price vs Maturity & Volatility\",\n",
    "    scene=dict(\n",
    "        xaxis_title='Maturity (T)',\n",
    "        yaxis_title='Volatility (σ)',\n",
    "        zaxis_title='Option Price'\n",
    "    ),\n",
    "    height=600,\n",
    "    width=800\n",
    ")\n",
    "\n",
    "\n",
    "fig.show()\n"
   ]
  }
 ],
 "metadata": {
  "kernelspec": {
   "display_name": "base",
   "language": "python",
   "name": "python3"
  },
  "language_info": {
   "codemirror_mode": {
    "name": "ipython",
    "version": 3
   },
   "file_extension": ".py",
   "mimetype": "text/x-python",
   "name": "python",
   "nbconvert_exporter": "python",
   "pygments_lexer": "ipython3",
   "version": "3.12.4"
  }
 },
 "nbformat": 4,
 "nbformat_minor": 5
}
